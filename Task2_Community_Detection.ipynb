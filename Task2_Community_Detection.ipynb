{
 "cells": [
  {
   "cell_type": "code",
   "execution_count": 30,
   "id": "e602f9ec-68a6-456b-bbbc-752cced94c3b",
   "metadata": {},
   "outputs": [],
   "source": [
    "import pickle\n",
    "import numpy as np\n",
    "import networkx as nx"
   ]
  },
  {
   "cell_type": "code",
   "execution_count": 31,
   "id": "3169ed46-bd1c-46d0-983e-9f0e5c7a3b87",
   "metadata": {},
   "outputs": [],
   "source": [
    "with open(\"country_graph.pkl\", \"rb\") as f:\n",
    "    country_graph = pickle.load(f)"
   ]
  },
  {
   "cell_type": "code",
   "execution_count": 32,
   "id": "2fa1ee12-7596-4de8-94d3-029ad5c07e68",
   "metadata": {},
   "outputs": [],
   "source": [
    "import community.community_louvain as community_louvain\n",
    "from networkx.algorithms.community import label_propagation_communities\n",
    "from networkx.algorithms.community.quality import modularity\n",
    "\n",
    "\n",
    "def louvain_community_detection(G):\n",
    "    G = G.to_undirected()\n",
    "    partition = community_louvain.best_partition(G)\n",
    "    communities = {}\n",
    "    for node, comm in partition.items():\n",
    "        communities.setdefault(comm, []).append(node)\n",
    "    return list(communities.values())\n",
    "\n",
    "def label_propagation_community_detection(G):\n",
    "    G = G.to_undirected()\n",
    "    return list(label_propagation_communities(G))\n",
    "  \n",
    "def print_community_letters(communities):\n",
    "    for i, community in enumerate(communities):\n",
    "        start_letters = {node[0].upper() for node in community if node}\n",
    "        end_letters = {node[-1].upper() for node in community if node}\n",
    "        print(f\"Community {i + 1}:\")\n",
    "        print(f\"  Distinct starting letters: {sorted(start_letters)}\")\n",
    "        print(f\"  Distinct ending letters: {sorted(end_letters)}\\n\")\n"
   ]
  },
  {
   "cell_type": "code",
   "execution_count": 33,
   "id": "9343ebbb",
   "metadata": {},
   "outputs": [
    {
     "name": "stdout",
     "output_type": "stream",
     "text": [
      "Louvain Modularity: 0.4666\n",
      "Community 1:\n",
      "  Distinct starting letters: ['A', 'B', 'C', 'D', 'G', 'J', 'K', 'L', 'M', 'P', 'Q', 'R', 'T', 'U', 'V', 'Z']\n",
      "  Distinct ending letters: ['A', 'C', 'N', 'R']\n",
      "\n",
      "Community 2:\n",
      "  Distinct starting letters: ['B', 'C', 'H', 'L', 'M', 'N', 'P', 'S', 'U']\n",
      "  Distinct ending letters: ['A', 'D', 'E', 'L', 'N', 'O', 'S']\n",
      "\n",
      "Community 3:\n",
      "  Distinct starting letters: ['B', 'C', 'G', 'I', 'J', 'K', 'L', 'N', 'O', 'P', 'T', 'U', 'Y']\n",
      "  Distinct ending letters: ['A', 'D', 'E', 'G', 'L', 'N', 'O', 'R', 'T', 'U', 'Y']\n",
      "\n",
      "Community 4:\n",
      "  Distinct starting letters: ['B', 'C', 'D', 'F', 'H', 'I', 'K', 'M', 'P', 'T']\n",
      "  Distinct ending letters: ['A', 'C', 'D', 'H', 'I', 'K', 'L', 'O', 'Q', 'Y']\n",
      "\n",
      "Community 5:\n",
      "  Distinct starting letters: ['B', 'C', 'E', 'F', 'G', 'H', 'M', 'P', 'R', 'T', 'U', 'V', 'Z']\n",
      "  Distinct ending letters: ['A', 'E', 'I', 'M', 'O', 'R', 'T', 'U', 'Y']\n",
      "\n",
      "Label Propagation Modularity: 0.4443\n",
      "Community 1:\n",
      "  Distinct starting letters: ['A', 'B', 'C', 'D', 'G', 'I', 'J', 'K', 'L', 'M', 'P', 'Q', 'R', 'T', 'U', 'V', 'Z']\n",
      "  Distinct ending letters: ['A', 'C', 'D', 'G', 'L', 'M', 'N', 'O', 'R', 'U', 'Y']\n",
      "\n",
      "Community 2:\n",
      "  Distinct starting letters: ['B', 'C', 'H', 'L', 'M', 'N', 'P', 'S', 'U', 'V']\n",
      "  Distinct ending letters: ['A', 'D', 'E', 'L', 'N', 'O', 'S', 'U', 'Y']\n",
      "\n",
      "Community 3:\n",
      "  Distinct starting letters: ['B', 'C', 'G', 'I', 'J', 'K', 'L', 'N', 'O', 'P', 'T', 'U', 'Y']\n",
      "  Distinct ending letters: ['A', 'D', 'E', 'L', 'N', 'O', 'R', 'U', 'Y']\n",
      "\n",
      "Community 4:\n",
      "  Distinct starting letters: ['B', 'C', 'E', 'F', 'G', 'H', 'K', 'M', 'R', 'T', 'U', 'Z']\n",
      "  Distinct ending letters: ['A', 'E', 'H', 'I', 'O', 'R', 'T', 'U', 'Y']\n",
      "\n",
      "Community 5:\n",
      "  Distinct starting letters: ['B', 'D', 'F', 'H', 'I', 'K', 'M']\n",
      "  Distinct ending letters: ['D', 'I', 'L', 'Q', 'Y']\n",
      "\n",
      "Community 6:\n",
      "  Distinct starting letters: ['D', 'F', 'K', 'P', 'T']\n",
      "  Distinct ending letters: ['D', 'K', 'O']\n",
      "\n"
     ]
    }
   ],
   "source": [
    "louvain_communities = louvain_community_detection(country_graph)\n",
    "louvain_modularity = modularity(country_graph, louvain_communities)\n",
    "print(f\"Louvain Modularity: {louvain_modularity:.4f}\")\n",
    "print_community_letters(louvain_communities)\n",
    "\n",
    "lpa_communities = label_propagation_community_detection(country_graph)\n",
    "lpa_modularity = modularity(country_graph, lpa_communities)\n",
    "print(f\"Label Propagation Modularity: {lpa_modularity:.4f}\")\n",
    "print_community_letters(lpa_communities)\n",
    "\n",
    "# Save results\n",
    "with open(\"community_detection_report.txt\", \"w\") as f:\n",
    "    f.write(\"Community Detection Report\\n\")\n",
    "    f.write(\"==========================\\n\\n\")\n",
    "    f.write(f\"Louvain Method:\\nModularity: {louvain_modularity:.4f}\\nNumber of Communities: {len(louvain_communities)}\\n\\n\")\n",
    "    f.write(f\"Label Propagation:\\nModularity: {lpa_modularity:.4f}\\nNumber of Communities: {len(lpa_communities)}\\n\\n\")\n",
    "    f.write(\"Louvain Communities:\\n\")\n",
    "    for i, comm in enumerate(louvain_communities):\n",
    "        f.write(f\"Community {i+1}: {comm}\\n\")\n",
    "    f.write(\"\\nLabel Propagation Communities:\\n\")\n",
    "    for i, comm in enumerate(lpa_communities):\n",
    "        f.write(f\"Community {i+1}: {comm}\\n\")\n"
   ]
  }
 ],
 "metadata": {
  "kernelspec": {
   "display_name": "Python 3",
   "language": "python",
   "name": "python3"
  },
  "language_info": {
   "codemirror_mode": {
    "name": "ipython",
    "version": 3
   },
   "file_extension": ".py",
   "mimetype": "text/x-python",
   "name": "python",
   "nbconvert_exporter": "python",
   "pygments_lexer": "ipython3",
   "version": "3.11.11"
  }
 },
 "nbformat": 4,
 "nbformat_minor": 5
}
