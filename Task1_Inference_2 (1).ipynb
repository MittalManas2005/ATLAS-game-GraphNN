{
 "cells": [
  {
   "cell_type": "code",
   "execution_count": 50,
   "id": "e210dfba-e5e7-4e62-a78d-3e01b2ff6333",
   "metadata": {},
   "outputs": [],
   "source": [
    "import networkx as nx\n",
    "import pickle\n",
    "import numpy as np"
   ]
  },
  {
   "cell_type": "code",
   "execution_count": 51,
   "id": "ad4dec7b-ef58-4d2e-803b-fb1d409e3f8a",
   "metadata": {},
   "outputs": [],
   "source": [
    "with open(\"cities_graph.pkl\", \"rb\") as f:\n",
    "    cities_graph = pickle.load(f)"
   ]
  },
  {
   "cell_type": "code",
   "execution_count": 52,
   "id": "67d54e6c-c7bb-4b0d-80ea-d39062660ecc",
   "metadata": {},
   "outputs": [
    {
     "name": "stdout",
     "output_type": "stream",
     "text": [
      "DiGraph with 500 nodes and 9276 edges\n"
     ]
    }
   ],
   "source": [
    "print(cities_graph)"
   ]
  },
  {
   "cell_type": "code",
   "execution_count": 53,
   "id": "7a923cc9-559e-486a-856a-fafaef7664ac",
   "metadata": {},
   "outputs": [
    {
     "name": "stdout",
     "output_type": "stream",
     "text": [
      "Warning: When  cdn_resources is 'local' jupyter notebook has issues displaying graphics on chrome/safari. Use cdn_resources='in_line' or cdn_resources='remote' if you have issues viewing graphics in a notebook.\n",
      "cities_graph.html\n"
     ]
    },
    {
     "data": {
      "text/html": [
       "\n",
       "        <iframe\n",
       "            width=\"100%\"\n",
       "            height=\"600px\"\n",
       "            src=\"cities_graph.html\"\n",
       "            frameborder=\"0\"\n",
       "            allowfullscreen\n",
       "            \n",
       "        ></iframe>\n",
       "        "
      ],
      "text/plain": [
       "<IPython.lib.display.IFrame at 0x110b50a50>"
      ]
     },
     "execution_count": 53,
     "metadata": {},
     "output_type": "execute_result"
    }
   ],
   "source": [
    "from pyvis.network import Network\n",
    "net = Network(notebook=True)\n",
    "net.from_nx(cities_graph)\n",
    "net.show(\"cities_graph.html\")"
   ]
  },
  {
   "cell_type": "code",
   "execution_count": 54,
   "id": "5d028891-bf1e-498c-af3b-b6e3d59843be",
   "metadata": {},
   "outputs": [],
   "source": [
    "nx.write_gexf(cities_graph, \"cities_graph.gexf\")"
   ]
  },
  {
   "cell_type": "code",
   "execution_count": 55,
   "id": "3be3d0e2-4065-42e2-a436-e314b8ea0077",
   "metadata": {},
   "outputs": [],
   "source": [
    "indegree_zero_nodes = []"
   ]
  },
  {
   "cell_type": "code",
   "execution_count": 56,
   "id": "2dc44b88-3b5c-43ea-ada1-d9ea15099d81",
   "metadata": {},
   "outputs": [],
   "source": [
    "for node in cities_graph.in_degree() : \n",
    "    if(node[1] == 0) : \n",
    "        indegree_zero_nodes.append(node[0])"
   ]
  },
  {
   "cell_type": "code",
   "execution_count": 57,
   "id": "4e44ad87-a4bc-41a0-92f1-8052dfdc8ea8",
   "metadata": {},
   "outputs": [
    {
     "name": "stdout",
     "output_type": "stream",
     "text": [
      "['Cairo', 'Beijing', 'Chongqing', 'Buenos Aires', 'Bangalore', 'Chennai', 'Bogota', 'Bangkok', 'Chengdu', 'Baghdad', 'Foshan', 'Belo Horizonte', 'Qingdao', 'Barcelona', 'Chittagong', 'Fukuoka', 'Changsha', 'Cape Town', 'Brasilia', 'Changchun', 'Fortaleza', 'Changzhou', 'Fuzhou Fujian', 'Casablanca', 'Curitiba', 'Bekasi', 'Faisalabad', 'Berlin', 'Busan', 'Campinas', 'Coimbatore', 'Bamako', 'Caracas', 'Cali', 'Brazzaville', 'Bandung', 'Birmingham', 'Chicago', 'Bhopal', 'Brisbane', 'Baku', 'Belem', 'Beirut', 'Baotou', 'Barranquilla', 'Conakry', 'Baoding', 'Brussels', 'Bursa', 'Quito', 'Benin City', 'Baixada Santista', 'Can Tho', 'Quanzhou', 'Cixi', 'Batam', 'Budapest', 'Bucharest', 'Qinhuangdao', 'Calgary', 'Qiqihaer', 'Cordoba', 'Ciudad Juarez', 'Chaozhou', 'Basra', 'Chon Buri', 'Queretaro', 'Cochabamba', 'Belgrade', 'Bucaramanga', 'Copenhagen', 'Bareilly', 'Qom', 'Freetown', 'Fushun Liaoning', 'Fes', 'Florianopolis', 'Bukavu', 'Baoji', 'Bhubaneswar', 'Chifeng', 'Bujumbura', 'Barquisimeto', 'Bogor', 'Chelyabinsk', 'Chandigarh', 'Benxi', 'Binzhou', 'Chiang Mai', 'Bazhong', 'Quetta', 'Bandar Lampung', 'Bobo Dioulasso']\n"
     ]
    }
   ],
   "source": [
    "print(indegree_zero_nodes)"
   ]
  },
  {
   "cell_type": "code",
   "execution_count": 58,
   "id": "28a63c12-a621-43ba-bc52-e55a3a08f5f9",
   "metadata": {},
   "outputs": [
    {
     "name": "stdout",
     "output_type": "stream",
     "text": [
      "93\n"
     ]
    }
   ],
   "source": [
    "# extracting first letter out of these countries\n",
    "print(len(indegree_zero_nodes))\n",
    "cities_do_not_end_in = set()\n",
    "for str in indegree_zero_nodes : \n",
    "    cities_do_not_end_in.add(str[0].lower())"
   ]
  },
  {
   "cell_type": "code",
   "execution_count": 59,
   "id": "3ae11930-3dfb-4278-9cfb-4eee6dc264a0",
   "metadata": {},
   "outputs": [
    {
     "name": "stdout",
     "output_type": "stream",
     "text": [
      "{'q', 'c', 'b', 'f'}\n"
     ]
    }
   ],
   "source": [
    "print(cities_do_not_end_in)"
   ]
  },
  {
   "cell_type": "code",
   "execution_count": 60,
   "id": "24da1be4-380b-44e0-8ccc-20e74f1004a8",
   "metadata": {},
   "outputs": [],
   "source": [
    "outdegree_zero_nodes = []\n",
    "for node in cities_graph.out_degree() : \n",
    "    if(node[1] == 0) : \n",
    "        outdegree_zero_nodes.append(node[0])"
   ]
  },
  {
   "cell_type": "code",
   "execution_count": 61,
   "id": "83d3e606-01d5-45a3-ab36-b2f096caa3f2",
   "metadata": {},
   "outputs": [
    {
     "name": "stdout",
     "output_type": "stream",
     "text": [
      "[]\n"
     ]
    }
   ],
   "source": [
    "print(outdegree_zero_nodes)"
   ]
  },
  {
   "cell_type": "code",
   "execution_count": 62,
   "id": "dcf0d5d5-5fca-41ce-a785-841f4526a47f",
   "metadata": {},
   "outputs": [
    {
     "name": "stdout",
     "output_type": "stream",
     "text": [
      "['Guangzhou', 'Lahore', 'Bangalore', 'Chengdu', 'Hangzhou', 'Suzhou', 'Pune', 'Belo Horizonte', 'Singapore', 'Zhengzhou', 'Melbourne', 'Yaounde', 'Shantou', 'Rome', 'Recife', 'Kozhikode', 'Porto Alegre', 'Changzhou', 'Wenzhou', 'Indore', 'Lanzhou', 'Ouagadougou', 'Coimbatore', 'Port Au Prince', 'Huizhou', 'Mogadishu', 'Brazzaville', 'Brisbane', 'Baku', 'Liuzhou', 'Baotou', 'Xuzhou', 'Daegu', 'Yangzhou', 'Haikou', 'Lome', 'Yancheng Jiangsu', 'West Yorkshire', 'Quanzhou', 'Marseille', 'Kathmandu', 'Harare', 'Zhangjiakou', 'Gwangju', 'Yiwu', 'Chaozhou', 'Ganzhou', 'San Jose', 'Taizhou Jiangsu', 'Belgrade', 'Pointe Noire', 'Adelaide', 'Joinville', 'Tengzhou', 'Yingkou', 'Pekan Baru', 'Lilongwe', 'Prague', 'Mysore', 'Bukavu', 'Zhuzhou', 'Zhenjiang Jiangsu', 'Pizhou', 'Luohe', 'Jinzhou', 'Binzhou']\n"
     ]
    }
   ],
   "source": [
    "outdegree_three_nodes = []\n",
    "for node in cities_graph.out_degree() : \n",
    "    if(node[1] == 3) : \n",
    "        outdegree_three_nodes.append(node[0])\n",
    "\n",
    "print(outdegree_three_nodes)"
   ]
  },
  {
   "cell_type": "code",
   "execution_count": 63,
   "id": "0d0cdc21-2c7f-4a7e-962d-a1617d665d28",
   "metadata": {},
   "outputs": [],
   "source": [
    "only_three_country_starts_with = set()\n",
    "for str in outdegree_three_nodes : \n",
    "    only_three_country_starts_with.add(str[-1].lower())"
   ]
  },
  {
   "cell_type": "code",
   "execution_count": 64,
   "id": "b020af92-5d3c-4f83-8059-eb6757e19496",
   "metadata": {},
   "outputs": [
    {
     "name": "stdout",
     "output_type": "stream",
     "text": [
      "{'u', 'e'}\n"
     ]
    }
   ],
   "source": [
    "print(only_three_country_starts_with)"
   ]
  },
  {
   "cell_type": "code",
   "execution_count": 65,
   "id": "2418a315-51f3-425d-9b19-e0aa4e42e781",
   "metadata": {},
   "outputs": [
    {
     "name": "stdout",
     "output_type": "stream",
     "text": [
      "Ekurhuleni\n",
      "Esfahan\n",
      "Edmonton\n"
     ]
    }
   ],
   "source": [
    "for node in cities_graph.nodes() : \n",
    "    if(node[0].lower() in ['e']) : \n",
    "        print(node)"
   ]
  },
  {
   "cell_type": "code",
   "execution_count": 66,
   "id": "3357b256-0521-449d-b386-bdff46feb6c7",
   "metadata": {},
   "outputs": [
    {
     "name": "stdout",
     "output_type": "stream",
     "text": [
      "Urumqi\n",
      "Ulaanbaatar\n",
      "Uyo\n"
     ]
    }
   ],
   "source": [
    "for node in cities_graph.nodes() : \n",
    "    if(node[0].lower() in ['u']) : \n",
    "        print(node)"
   ]
  },
  {
   "cell_type": "code",
   "execution_count": 67,
   "id": "73a4cb5b-c365-49b1-af3a-b1a3ccc56c1b",
   "metadata": {},
   "outputs": [
    {
     "name": "stdout",
     "output_type": "stream",
     "text": [
      "Istanbul\n",
      "Ibadan\n",
      "Indore\n",
      "Izmir\n",
      "Incheon\n",
      "Islamabad\n"
     ]
    }
   ],
   "source": [
    "for node in cities_graph.nodes() : \n",
    "    if(node[0].lower() in ['i']) : \n",
    "        print(node)"
   ]
  },
  {
   "cell_type": "code",
   "execution_count": 68,
   "id": "15e93713-0ee3-4d53-80be-611669567713",
   "metadata": {},
   "outputs": [],
   "source": [
    "# Compute centralities\n",
    "degree_centrality = nx.degree_centrality(cities_graph)  # Degree Centrality\n",
    "closeness_centrality = nx.closeness_centrality(cities_graph)  # Closeness Centrality\n",
    "betweenness_centrality = nx.betweenness_centrality(cities_graph)  # Betweenness Centrality\n",
    "\n",
    "# Print centralities in sorted order\n",
    "def print_sorted_centralities(centrality, centrality_name):\n",
    "    print(f\"\\nSorted {centrality_name}:\")\n",
    "    sorted_nodes = sorted(centrality.items(), key=lambda x: x[1], reverse=True)\n",
    "    for node, value in sorted_nodes:\n",
    "        print(f\"{node}: {value:.4f}\")\n"
   ]
  },
  {
   "cell_type": "code",
   "execution_count": null,
   "id": "c25301cb-5859-44d5-8a24-fbf583068002",
   "metadata": {},
   "outputs": [],
   "source": [
    "# Print centralities for each measure\n",
    "print_sorted_centralities(degree_centrality, \"Degree Centrality\")\n"
   ]
  },
  {
   "cell_type": "code",
   "execution_count": null,
   "id": "1b42253e-0ff6-4844-a790-dcd5d25d714d",
   "metadata": {
    "scrolled": true
   },
   "outputs": [],
   "source": [
    "print_sorted_centralities(closeness_centrality, \"Closeness Centrality\")\n"
   ]
  },
  {
   "cell_type": "code",
   "execution_count": null,
   "id": "a8391ee1-76bc-427c-ac69-6ad8d8da48ef",
   "metadata": {
    "scrolled": true
   },
   "outputs": [],
   "source": [
    "print_sorted_centralities(betweenness_centrality, \"Betweenness Centrality\")"
   ]
  },
  {
   "cell_type": "code",
   "execution_count": null,
   "id": "0b75cf52-8e66-4709-9bde-5753b1dcda70",
   "metadata": {},
   "outputs": [],
   "source": [
    "for node in cities_graph.nodes() : \n",
    "    if(node[0].lower() in ['m']) : \n",
    "        print(node)"
   ]
  },
  {
   "cell_type": "code",
   "execution_count": 75,
   "id": "a13ccddd-ba3e-4fb9-a10f-0ceaeee9a66e",
   "metadata": {},
   "outputs": [
    {
     "name": "stdout",
     "output_type": "stream",
     "text": [
      "Starting letter counts (sorted):\n",
      "Count of nodes starting with 'a': 34\n",
      "Count of nodes starting with 'b': 46\n",
      "Count of nodes starting with 'c': 30\n",
      "Count of nodes starting with 'd': 22\n",
      "Count of nodes starting with 'e': 3\n",
      "Count of nodes starting with 'f': 9\n",
      "Count of nodes starting with 'g': 17\n",
      "Count of nodes starting with 'h': 26\n",
      "Count of nodes starting with 'i': 6\n",
      "Count of nodes starting with 'j': 17\n",
      "Count of nodes starting with 'k': 29\n",
      "Count of nodes starting with 'l': 26\n",
      "Count of nodes starting with 'm': 45\n",
      "Count of nodes starting with 'n': 21\n",
      "Count of nodes starting with 'o': 5\n",
      "Count of nodes starting with 'p': 25\n",
      "Count of nodes starting with 'q': 8\n",
      "Count of nodes starting with 'r': 12\n",
      "Count of nodes starting with 's': 42\n",
      "Count of nodes starting with 't': 29\n",
      "Count of nodes starting with 'u': 3\n",
      "Count of nodes starting with 'v': 7\n",
      "Count of nodes starting with 'w': 9\n",
      "Count of nodes starting with 'x': 8\n",
      "Count of nodes starting with 'y': 11\n",
      "Count of nodes starting with 'z': 10\n"
     ]
    }
   ],
   "source": [
    "from collections import defaultdict\n",
    "\n",
    "start_letter_count = defaultdict(int)\n",
    "\n",
    "# Iterate over all the nodes and count the starting letter occurrences\n",
    "for node in cities_graph.nodes():\n",
    "    if node:  # Ensure the node is not empty\n",
    "        start_letter = node[0].lower()  # First letter (convert to lowercase for consistency)\n",
    "        start_letter_count[start_letter] += 1\n",
    "\n",
    "# Print the counts for starting letters\n",
    "print(\"Starting letter counts (sorted):\")\n",
    "for start_letter in sorted(start_letter_count.keys()):\n",
    "    print(f\"Count of nodes starting with '{start_letter}': {start_letter_count[start_letter]}\")\n"
   ]
  },
  {
   "cell_type": "code",
   "execution_count": 76,
   "id": "ce87db57-29e1-4fd8-b5eb-616e5f915747",
   "metadata": {},
   "outputs": [
    {
     "name": "stdout",
     "output_type": "stream",
     "text": [
      "Ending letter counts (sorted):\n",
      "Count of nodes ending with 'a': 82\n",
      "Count of nodes ending with 'd': 14\n",
      "Count of nodes ending with 'e': 29\n",
      "Count of nodes ending with 'g': 58\n",
      "Count of nodes ending with 'h': 10\n",
      "Count of nodes ending with 'i': 51\n",
      "Count of nodes ending with 'j': 1\n",
      "Count of nodes ending with 'k': 8\n",
      "Count of nodes ending with 'l': 9\n",
      "Count of nodes ending with 'm': 14\n",
      "Count of nodes ending with 'n': 61\n",
      "Count of nodes ending with 'o': 33\n",
      "Count of nodes ending with 'p': 1\n",
      "Count of nodes ending with 'r': 28\n",
      "Count of nodes ending with 's': 20\n",
      "Count of nodes ending with 't': 13\n",
      "Count of nodes ending with 'u': 37\n",
      "Count of nodes ending with 'v': 3\n",
      "Count of nodes ending with 'w': 4\n",
      "Count of nodes ending with 'x': 1\n",
      "Count of nodes ending with 'y': 17\n",
      "Count of nodes ending with 'z': 6\n"
     ]
    }
   ],
   "source": [
    "from collections import defaultdict\n",
    "\n",
    "end_letter_count = defaultdict(int)\n",
    "\n",
    "# Iterate over all the nodes and count the starting letter occurrences\n",
    "for node in cities_graph.nodes:\n",
    "    if node:  # Ensure the node is not empty\n",
    "        end_letter = node[-1].lower()  # First letter (convert to lowercase for consistency)\n",
    "        end_letter_count[end_letter] += 1\n",
    "\n",
    "# Print the counts for starting letters\n",
    "print(\"Ending letter counts (sorted):\")\n",
    "for end_letter in sorted(end_letter_count.keys()):\n",
    "    print(f\"Count of nodes ending with '{end_letter}': {end_letter_count[end_letter]}\")\n"
   ]
  },
  {
   "cell_type": "code",
   "execution_count": 77,
   "id": "663b3941-c41e-4caf-8bdf-d1e35868474a",
   "metadata": {},
   "outputs": [
    {
     "name": "stdout",
     "output_type": "stream",
     "text": [
      "Gaziantep\n"
     ]
    }
   ],
   "source": [
    "for node in cities_graph.nodes() : \n",
    "    if(node[-1].lower() in ['p']) : \n",
    "        print(node)"
   ]
  },
  {
   "cell_type": "code",
   "execution_count": 80,
   "id": "97e84040-2316-4eee-94c4-77c90c00ceea",
   "metadata": {},
   "outputs": [
    {
     "name": "stdout",
     "output_type": "stream",
     "text": [
      "Ending letter counts (sorted):\n",
      "Count of nodes ending with 'a': 65\n",
      "Count of nodes ending with 'd': 12\n",
      "Count of nodes ending with 'e': 23\n",
      "Count of nodes ending with 'g': 49\n",
      "Count of nodes ending with 'h': 9\n",
      "Count of nodes ending with 'i': 43\n",
      "Count of nodes ending with 'j': 1\n",
      "Count of nodes ending with 'k': 6\n",
      "Count of nodes ending with 'l': 8\n",
      "Count of nodes ending with 'm': 10\n",
      "Count of nodes ending with 'n': 53\n",
      "Count of nodes ending with 'o': 23\n",
      "Count of nodes ending with 'p': 1\n",
      "Count of nodes ending with 'r': 25\n",
      "Count of nodes ending with 's': 14\n",
      "Count of nodes ending with 't': 10\n",
      "Count of nodes ending with 'u': 29\n",
      "Count of nodes ending with 'v': 3\n",
      "Count of nodes ending with 'w': 4\n",
      "Count of nodes ending with 'x': 1\n",
      "Count of nodes ending with 'y': 13\n",
      "Count of nodes ending with 'z': 5\n"
     ]
    }
   ],
   "source": [
    "from collections import defaultdict\n",
    "\n",
    "end_letter_count2 = defaultdict(int)\n",
    "\n",
    "# Iterate over all the nodes and count the starting letter occurrences\n",
    "for node in cities_graph.nodes:\n",
    "    if node and node[0].lower() not in ['b' , 'c' , 'q' , 'f' ]:  # Ensure the node is not empty\n",
    "        end_letter2 = node[-1].lower()  # First letter (convert to lowercase for consistency)\n",
    "        end_letter_count2[end_letter2] += 1\n",
    "\n",
    "# Print the counts for starting letters\n",
    "print(\"Ending letter counts (sorted):\")\n",
    "for end_letter2 in sorted(end_letter_count2.keys()):\n",
    "    print(f\"Count of nodes ending with '{end_letter2}': {end_letter_count2[end_letter2]}\")\n"
   ]
  },
  {
   "cell_type": "code",
   "execution_count": 64,
   "id": "da816091-3a1f-4aa0-88e3-78e492f46e2d",
   "metadata": {},
   "outputs": [],
   "source": [
    "# 'p' and 'j' = 1 , 'x' = 1 , "
   ]
  },
  {
   "cell_type": "code",
   "execution_count": 81,
   "id": "d2b48423-9c79-4bf2-8568-6f9202925a96",
   "metadata": {},
   "outputs": [
    {
     "name": "stdout",
     "output_type": "stream",
     "text": [
      "Gaziantep\n"
     ]
    }
   ],
   "source": [
    "for node in cities_graph.nodes() : \n",
    "    if(node[-1].lower() in ['p']) : \n",
    "        print(node)"
   ]
  },
  {
   "cell_type": "code",
   "execution_count": 82,
   "id": "4a471daf-0c8f-42e7-b696-c733f7fa5802",
   "metadata": {},
   "outputs": [
    {
     "name": "stdout",
     "output_type": "stream",
     "text": [
      "Karaj\n"
     ]
    }
   ],
   "source": [
    "for node in cities_graph.nodes() : \n",
    "    if(node[-1].lower() in ['j']) : \n",
    "        print(node)"
   ]
  },
  {
   "cell_type": "code",
   "execution_count": 83,
   "id": "c04fa1cc-e8d9-49b3-bcc4-c3ea7838c13f",
   "metadata": {},
   "outputs": [
    {
     "name": "stdout",
     "output_type": "stream",
     "text": [
      "Phoenix\n"
     ]
    }
   ],
   "source": [
    "for node in cities_graph.nodes() : \n",
    "    if(node[-1].lower() in ['x']) : \n",
    "        print(node)"
   ]
  },
  {
   "cell_type": "code",
   "execution_count": 85,
   "id": "f3e5a48e-e9e8-473f-80bc-b36415819349",
   "metadata": {},
   "outputs": [
    {
     "name": "stdout",
     "output_type": "stream",
     "text": [
      "Ending letter counts (sorted):\n",
      "Count of nodes ending with 'a': 50\n",
      "Count of nodes ending with 'd': 12\n",
      "Count of nodes ending with 'e': 17\n",
      "Count of nodes ending with 'g': 42\n",
      "Count of nodes ending with 'h': 6\n",
      "Count of nodes ending with 'i': 37\n",
      "Count of nodes ending with 'k': 5\n",
      "Count of nodes ending with 'l': 6\n",
      "Count of nodes ending with 'm': 8\n",
      "Count of nodes ending with 'n': 49\n",
      "Count of nodes ending with 'o': 21\n",
      "Count of nodes ending with 'r': 20\n",
      "Count of nodes ending with 's': 12\n",
      "Count of nodes ending with 't': 9\n",
      "Count of nodes ending with 'u': 23\n",
      "Count of nodes ending with 'v': 1\n",
      "Count of nodes ending with 'w': 3\n",
      "Count of nodes ending with 'y': 10\n",
      "Count of nodes ending with 'z': 5\n"
     ]
    }
   ],
   "source": [
    "from collections import defaultdict\n",
    "\n",
    "end_letter_count2 = defaultdict(int)\n",
    "\n",
    "# Iterate over all the nodes and count the starting letter occurrences\n",
    "for node in cities_graph.nodes:\n",
    "    if node and node[0].lower() not in ['b' , 'c' , 'q' , 'f'  , 'g' , 'k' , 'p' ]:  # Ensure the node is not empty\n",
    "        end_letter2 = node[-1].lower()  # First letter (convert to lowercase for consistency)\n",
    "        end_letter_count2[end_letter2] += 1\n",
    "\n",
    "# Print the counts for starting letters\n",
    "print(\"Ending letter counts (sorted):\")\n",
    "for end_letter2 in sorted(end_letter_count2.keys()):\n",
    "    print(f\"Count of nodes ending with '{end_letter2}': {end_letter_count2[end_letter2]}\")\n"
   ]
  },
  {
   "cell_type": "code",
   "execution_count": 69,
   "id": "8c3cb49f-04db-490a-9af3-a5b44258d97b",
   "metadata": {},
   "outputs": [
    {
     "name": "stdout",
     "output_type": "stream",
     "text": [
      "Tel Aviv\n",
      "Kiev\n",
      "Kharkiv\n"
     ]
    }
   ],
   "source": [
    "for node in cities_graph.nodes() : \n",
    "    if(node[-1].lower() in ['v']) : \n",
    "        print(node)"
   ]
  },
  {
   "cell_type": "code",
   "execution_count": 86,
   "id": "ba6beb63-4fa6-4a39-85a2-d954879f522a",
   "metadata": {},
   "outputs": [
    {
     "name": "stdout",
     "output_type": "stream",
     "text": [
      "Starting letter counts (sorted):\n",
      "Count of nodes starting with 'a': 34\n",
      "Count of nodes starting with 'd': 22\n",
      "Count of nodes starting with 'e': 3\n",
      "Count of nodes starting with 'g': 17\n",
      "Count of nodes starting with 'h': 26\n",
      "Count of nodes starting with 'i': 6\n",
      "Count of nodes starting with 'j': 17\n",
      "Count of nodes starting with 'k': 29\n",
      "Count of nodes starting with 'l': 26\n",
      "Count of nodes starting with 'm': 45\n",
      "Count of nodes starting with 'n': 21\n",
      "Count of nodes starting with 'o': 5\n",
      "Count of nodes starting with 'p': 25\n",
      "Count of nodes starting with 'r': 12\n",
      "Count of nodes starting with 's': 42\n",
      "Count of nodes starting with 't': 29\n",
      "Count of nodes starting with 'u': 3\n",
      "Count of nodes starting with 'v': 7\n",
      "Count of nodes starting with 'w': 9\n",
      "Count of nodes starting with 'x': 8\n",
      "Count of nodes starting with 'y': 11\n",
      "Count of nodes starting with 'z': 10\n"
     ]
    }
   ],
   "source": [
    "from collections import defaultdict\n",
    "\n",
    "start_letter_count = defaultdict(int)\n",
    "\n",
    "# Iterate over all the nodes and count the starting letter occurrences\n",
    "for node in cities_graph.nodes():\n",
    "    if node and node[0].lower() not in ['b' , 'c' , 'q' , 'f' ] : \n",
    "        start_letter = node[0].lower()  # First letter (convert to lowercase for consistency)\n",
    "        start_letter_count[start_letter] += 1\n",
    "\n",
    "# Print the counts for starting letters\n",
    "print(\"Starting letter counts (sorted):\")\n",
    "for start_letter in sorted(start_letter_count.keys()):\n",
    "    print(f\"Count of nodes starting with '{start_letter}': {start_letter_count[start_letter]}\")\n"
   ]
  },
  {
   "cell_type": "code",
   "execution_count": 88,
   "id": "fbaf0c77-08fd-4635-840e-980086b20c33",
   "metadata": {},
   "outputs": [
    {
     "name": "stdout",
     "output_type": "stream",
     "text": [
      "Ending letter counts (sorted):\n",
      "Count of nodes ending with 'a': 65\n",
      "Count of nodes ending with 'd': 12\n",
      "Count of nodes ending with 'e': 23\n",
      "Count of nodes ending with 'g': 49\n",
      "Count of nodes ending with 'h': 9\n",
      "Count of nodes ending with 'i': 43\n",
      "Count of nodes ending with 'j': 1\n",
      "Count of nodes ending with 'k': 6\n",
      "Count of nodes ending with 'l': 8\n",
      "Count of nodes ending with 'm': 10\n",
      "Count of nodes ending with 'n': 53\n",
      "Count of nodes ending with 'o': 23\n",
      "Count of nodes ending with 'p': 1\n",
      "Count of nodes ending with 'r': 25\n",
      "Count of nodes ending with 's': 14\n",
      "Count of nodes ending with 't': 10\n",
      "Count of nodes ending with 'u': 29\n",
      "Count of nodes ending with 'v': 3\n",
      "Count of nodes ending with 'w': 4\n",
      "Count of nodes ending with 'x': 1\n",
      "Count of nodes ending with 'y': 13\n",
      "Count of nodes ending with 'z': 5\n"
     ]
    }
   ],
   "source": [
    "from collections import defaultdict\n",
    "\n",
    "end_letter_count2 = defaultdict(int)\n",
    "\n",
    "# Iterate over all the nodes and count the starting letter occurrences\n",
    "for node in cities_graph.nodes:\n",
    "    if node and node[0].lower() not in ['b' , 'c' , 'q' , 'f' ]:  # Ensure the node is not empty\n",
    "        end_letter2 = node[-1].lower()  # First letter (convert to lowercase for consistency)\n",
    "        end_letter_count2[end_letter2] += 1\n",
    "\n",
    "# Print the counts for starting letters\n",
    "print(\"Ending letter counts (sorted):\")\n",
    "for end_letter2 in sorted(end_letter_count2.keys()):\n",
    "    print(f\"Count of nodes ending with '{end_letter2}': {end_letter_count2[end_letter2]}\")\n"
   ]
  },
  {
   "cell_type": "code",
   "execution_count": 97,
   "id": "c504d637-9e49-4d9f-b70d-e1da67d77efb",
   "metadata": {
    "scrolled": true
   },
   "outputs": [
    {
     "name": "stdout",
     "output_type": "stream",
     "text": [
      "Nodes with highest in-degree to out-degree ratio:\n",
      "Adelaide: 27.33\n",
      "Guangzhou: 19.33\n",
      "Gwangju: 19.33\n",
      "Ganzhou: 19.33\n",
      "Indore: 17.00\n",
      "Antananarivo: 16.40\n",
      "Aleppo: 16.40\n",
      "Abu Dhabi: 13.67\n",
      "Abomey Calavi: 13.67\n",
      "Ningbo: 12.20\n",
      "Ouagadougou: 11.00\n",
      "Nairobi: 10.17\n",
      "New Taipei: 10.17\n",
      "Nnewi: 10.17\n",
      "Guwahati: 9.67\n",
      "Rome: 9.33\n",
      "Recife: 9.33\n",
      "Ahvaz: 8.20\n",
      "Almaty: 7.45\n",
      "Uyo: 7.40\n",
      "Amritsar: 6.83\n",
      "Suzhou: 6.67\n",
      "Singapore: 6.67\n",
      "Shantou: 6.67\n",
      "San Jose: 6.67\n",
      "Glasgow: 6.44\n",
      "Urumqi: 6.17\n",
      "Yaounde: 5.67\n",
      "Yangzhou: 5.67\n",
      "Yancheng Jiangsu: 5.67\n",
      "Yiwu: 5.67\n",
      "Yingkou: 5.67\n",
      "Rio De Janeiro: 5.60\n",
      "Rosario: 5.60\n",
      "Rizhao: 5.60\n",
      "New York City: 5.55\n",
      "Niamey: 5.55\n",
      "Guatemala City: 5.27\n",
      "Nagpur: 5.08\n",
      "Ekurhuleni: 4.83\n",
      "Gwalior: 4.83\n",
      "Anyang: 4.82\n",
      "Melbourne: 4.67\n",
      "Mogadishu: 4.67\n",
      "Rawalpindi: 4.67\n",
      "Daegu: 4.67\n",
      "Marseille: 4.67\n",
      "Ranchi: 4.67\n",
      "Mysore: 4.67\n",
      "Taizhou Jiangsu: 4.33\n",
      "Tengzhou: 4.33\n",
      "Izmir: 4.25\n",
      "Sao Paulo: 4.00\n",
      "Santiago: 4.00\n",
      "Santo Domingo: 4.00\n",
      "Sapporo: 4.00\n",
      "San Antonio: 4.00\n",
      "San Diego: 4.00\n",
      "Abidjan: 3.90\n",
      "Asuncion: 3.90\n",
      "Amman: 3.90\n",
      "Anshan: 3.90\n",
      "Ahmedabad: 3.73\n",
      "Aurangabad: 3.73\n",
      "Auckland: 3.73\n",
      "Allahabad: 3.73\n",
      "Nanjing: 3.59\n",
      "Nanning: 3.59\n",
      "Nanchang: 3.59\n",
      "Nantong: 3.59\n",
      "Nanchong: 3.59\n",
      "Guiyang: 3.56\n",
      "Gaoxiong: 3.56\n",
      "Shanghai: 3.33\n",
      "Hangzhou: 3.33\n",
      "Huizhou: 3.33\n",
      "Sendai: 3.33\n",
      "Haikou: 3.33\n",
      "Harare: 3.33\n",
      "San Luis Potosi: 3.33\n",
      "Siliguri: 3.33\n",
      "Asansol: 3.15\n",
      "Aligarh: 3.15\n",
      "Ulaanbaatar: 3.08\n",
      "Lahore: 3.00\n",
      "Lanzhou: 3.00\n",
      "Liuzhou: 3.00\n",
      "Lome: 3.00\n",
      "Lilongwe: 3.00\n",
      "Nanyang Henan: 3.00\n",
      "Luohe: 3.00\n",
      "Yantai: 2.83\n",
      "Maracaibo: 2.80\n",
      "Montevideo: 2.80\n",
      "Maceio: 2.80\n",
      "Maputo: 2.80\n",
      "Nizhniy Novgorod: 2.77\n",
      "Guilin: 2.76\n",
      "Kozhikode: 2.67\n",
      "Kathmandu: 2.67\n",
      "Tokyo: 2.60\n",
      "Toronto: 2.60\n",
      "Toluca De Lerdo: 2.60\n",
      "Addis Ababa: 2.45\n",
      "Alexandria: 2.45\n",
      "Ankara: 2.45\n",
      "Abuja: 2.45\n",
      "Accra: 2.45\n",
      "Agra: 2.45\n",
      "Raipur: 2.45\n",
      "Adana: 2.45\n",
      "Antalya: 2.45\n",
      "Astana: 2.45\n",
      "Aba: 2.45\n",
      "Ibadan: 2.43\n",
      "Incheon: 2.43\n",
      "Natal: 2.35\n",
      "Delhi: 2.33\n",
      "Mumbai: 2.33\n",
      "Dubai: 2.33\n",
      "Mbuji Mayi: 2.33\n",
      "Madurai: 2.33\n",
      "Mexicali: 2.33\n",
      "Gaziantep: 2.32\n",
      "Islamabad: 2.32\n",
      "Guayaquil: 2.23\n",
      "Taiyuan Shanxi: 2.17\n",
      "Tangshan Hebei: 2.17\n",
      "Taipei: 2.17\n",
      "Tiruchirappalli: 2.17\n",
      "Tripoli: 2.17\n",
      "Nashik: 2.10\n",
      "Novosibirsk: 2.10\n",
      "Nouakchott: 2.10\n",
      "Zhengzhou: 2.00\n",
      "Santa Cruz: 2.00\n",
      "Shiraz: 2.00\n",
      "Zhangjiakou: 2.00\n",
      "Zhuzhou: 2.00\n",
      "Zhenjiang Jiangsu: 2.00\n",
      "Istanbul: 1.96\n",
      "Athens: 1.95\n",
      "Algiers: 1.95\n",
      "Aguascalientes: 1.95\n",
      "Tel Aviv: 1.86\n",
      "Ad Dammam: 1.82\n",
      "Amsterdam: 1.82\n",
      "Sydney: 1.82\n",
      "Nagoya: 1.79\n",
      "N Djamena: 1.79\n",
      "Guadalajara: 1.71\n",
      "Goiania: 1.71\n",
      "Gujranwala: 1.71\n",
      "Grande Vitoria: 1.71\n",
      "Hanoi: 1.67\n",
      "Hefei: 1.67\n",
      "Salvador: 1.67\n",
      "Srinagar: 1.67\n",
      "Helsinki: 1.67\n",
      "Huaibei: 1.67\n",
      "Saharanpur: 1.67\n",
      "Kano: 1.60\n",
      "Moscow: 1.56\n",
      "Lubumbashi: 1.50\n",
      "Liupanshui: 1.50\n",
      "Naples: 1.45\n",
      "Esfahan: 1.38\n",
      "Edmonton: 1.38\n",
      "Grande Sao Luis: 1.38\n",
      "Karachi: 1.33\n",
      "Wenzhou: 1.33\n",
      "Kumasi: 1.33\n",
      "Kochi: 1.33\n",
      "West Yorkshire: 1.33\n",
      "Kisangani: 1.33\n",
      "Ruian: 1.33\n",
      "Kigali: 1.33\n",
      "Tabriz: 1.30\n",
      "Mexico City: 1.27\n",
      "Monterrey: 1.27\n",
      "Davao City: 1.27\n",
      "Mandalay: 1.27\n",
      "Maracay: 1.27\n",
      "Zibo: 1.20\n",
      "Shenyang: 1.18\n",
      "Saint Petersburg: 1.18\n",
      "Shijiazhuang: 1.18\n",
      "Shaoxing: 1.18\n",
      "Semarang: 1.18\n",
      "Dakar: 1.17\n",
      "Manchester: 1.17\n",
      "Makassar: 1.17\n",
      "Durg Bhilainagar: 1.17\n",
      "Kiev: 1.14\n",
      "Kharkiv: 1.14\n",
      "Omsk: 1.14\n",
      "Thrissur: 1.08\n",
      "Tiruppur: 1.08\n",
      "Tanger: 1.08\n",
      "Riyadh: 1.08\n",
      "Lucknow: 1.00\n",
      "Zhuhai: 1.00\n",
      "Yichang: 1.00\n",
      "Yekaterinburg: 1.00\n",
      "Zunyi: 1.00\n",
      "Yueqing: 1.00\n",
      "Osaka: 0.97\n",
      "Onitsha: 0.97\n",
      "Ottawa: 0.97\n",
      "Rajkot: 0.97\n",
      "Rabat: 0.97\n",
      "Shenzhen: 0.95\n",
      "San Juan: 0.95\n",
      "Suqian: 0.95\n",
      "Shiyan: 0.95\n",
      "Suweon: 0.95\n",
      "Samut Prakan: 0.95\n",
      "Ho Chi Minh City: 0.91\n",
      "La Paz: 0.90\n",
      "Daqing: 0.82\n",
      "Datong: 0.82\n",
      "Dongying: 0.82\n",
      "Maoming: 0.82\n",
      "Da Nang: 0.82\n",
      "Yangon: 0.81\n",
      "Yinchuan: 0.81\n",
      "Seoul: 0.77\n",
      "Sharjah: 0.77\n",
      "Tangerang: 0.76\n",
      "Taizhou Zhejiang: 0.76\n",
      "Taian Shandong: 0.76\n",
      "Taizhong: 0.76\n",
      "Kuwait City: 0.73\n",
      "Surat: 0.69\n",
      "Shimkent: 0.69\n",
      "Kuala Lumpur: 0.67\n",
      "Dongguan: 0.67\n",
      "Dalian: 0.67\n",
      "Medellin: 0.67\n",
      "Wuxi: 0.67\n",
      "Kanpur: 0.67\n",
      "Durban: 0.67\n",
      "Milan: 0.67\n",
      "Medan: 0.67\n",
      "Kannur: 0.67\n",
      "Multan: 0.67\n",
      "Wuhu Anhui: 0.67\n",
      "Daejon: 0.67\n",
      "Weihai: 0.67\n",
      "Mianyang Sichuan: 0.67\n",
      "Dublin: 0.67\n",
      "Madrid: 0.64\n",
      "Mashhad: 0.64\n",
      "Moradabad: 0.64\n",
      "Tianjin: 0.62\n",
      "Tehran: 0.62\n",
      "Taoyuan: 0.62\n",
      "Turin: 0.62\n",
      "Dhanbad: 0.62\n",
      "Hong Kong: 0.59\n",
      "Sanaa: 0.59\n",
      "Surabaya: 0.59\n",
      "Shizuoka: 0.59\n",
      "Hamburg: 0.59\n",
      "Hengyang: 0.59\n",
      "Hai Phong: 0.59\n",
      "Sofia: 0.59\n",
      "Samara: 0.59\n",
      "Montreal: 0.54\n",
      "Mosul: 0.54\n",
      "Munich: 0.54\n",
      "Luoyang: 0.53\n",
      "Linyi Shandong: 0.53\n",
      "Lianyungang: 0.53\n",
      "Liuyang: 0.53\n",
      "Varanasi: 0.50\n",
      "Depok: 0.48\n",
      "Minsk: 0.48\n",
      "Meerut: 0.48\n",
      "Muscat: 0.48\n",
      "Haerbin: 0.48\n",
      "Handan: 0.48\n",
      "Huaian: 0.48\n",
      "Houston: 0.48\n",
      "Huainan: 0.48\n",
      "Kunming: 0.47\n",
      "Karaj: 0.47\n",
      "Kaifeng: 0.47\n",
      "Hyderabad: 0.45\n",
      "Hubli Dharwad: 0.45\n",
      "Stockholm: 0.44\n",
      "Salem: 0.44\n",
      "London: 0.43\n",
      "Lisbon: 0.43\n",
      "Tashkent: 0.43\n",
      "Lyon: 0.43\n",
      "Liuan: 0.43\n",
      "Dhaka: 0.41\n",
      "Manila: 0.41\n",
      "Douala: 0.41\n",
      "Mecca: 0.41\n",
      "Matola: 0.41\n",
      "Monrovia: 0.41\n",
      "Medina: 0.41\n",
      "Mombasa: 0.41\n",
      "Mwanza: 0.41\n",
      "Mendoza: 0.41\n",
      "Merida: 0.41\n",
      "Tijuana: 0.38\n",
      "Tegucigalpa: 0.38\n",
      "Tasikmalaya: 0.38\n",
      "Kazan: 0.38\n",
      "Warsaw: 0.38\n",
      "Zhanjiang: 0.35\n",
      "Hohhot: 0.34\n",
      "Pune: 0.33\n",
      "Porto Alegre: 0.33\n",
      "Port Au Prince: 0.33\n",
      "Damascus: 0.33\n",
      "Manaus: 0.33\n",
      "Xuzhou: 0.33\n",
      "Pointe Noire: 0.33\n",
      "Joinville: 0.33\n",
      "Pekan Baru: 0.33\n",
      "Prague: 0.33\n",
      "Dallas: 0.33\n",
      "Pizhou: 0.33\n",
      "Jinzhou: 0.33\n",
      "Dar Es Salaam: 0.31\n",
      "Tunis: 0.31\n",
      "Kabul: 0.31\n",
      "Malappuram: 0.30\n",
      "Havana: 0.29\n",
      "Hiroshima: 0.29\n",
      "Haifa: 0.29\n",
      "Hargeysa: 0.29\n",
      "Thiruvananthapuram: 0.29\n",
      "Zhongshan: 0.29\n",
      "Lima: 0.26\n",
      "Luanda: 0.26\n",
      "Lusaka: 0.26\n",
      "Ludhiana: 0.26\n",
      "La Laguna: 0.26\n",
      "Vancouver: 0.25\n",
      "Krasnoyarsk: 0.25\n",
      "Homs: 0.24\n",
      "Kinshasa: 0.24\n",
      "Kolkata: 0.24\n",
      "Kampala: 0.24\n",
      "Weifang: 0.24\n",
      "Kananga: 0.24\n",
      "Kota: 0.24\n",
      "Konya: 0.24\n",
      "Kaduna: 0.24\n",
      "Wenling: 0.24\n",
      "Zurich: 0.23\n",
      "Lagos: 0.21\n",
      "Los Angeles: 0.21\n",
      "Leon De Los Aldamas: 0.21\n",
      "Porto: 0.20\n",
      "Wuhan: 0.19\n",
      "Khartoum: 0.18\n",
      "Kollam: 0.18\n",
      "Phoenix: 0.12\n",
      "Panama City: 0.09\n",
      "Vadodara: 0.09\n",
      "Vijayawada: 0.09\n",
      "Valencia: 0.09\n",
      "Vienna: 0.09\n",
      "Jaipur: 0.08\n",
      "Peshawar: 0.08\n",
      "Jamshedpur: 0.08\n",
      "Jodhpur: 0.08\n",
      "Jabalpur: 0.08\n",
      "Visakhapatnam: 0.07\n",
      "Johannesburg: 0.06\n",
      "Ji Nan Shandong: 0.06\n",
      "Pyongyang: 0.06\n",
      "Palembang: 0.06\n",
      "Xiangyang: 0.06\n",
      "Xining: 0.06\n",
      "Jining Shandong: 0.06\n",
      "Jiaxing: 0.06\n",
      "Jieyang: 0.06\n",
      "Puning: 0.06\n",
      "Xinxiang: 0.06\n",
      "Xi An: 0.05\n",
      "Xiamen: 0.05\n",
      "Putian: 0.05\n",
      "Jiangmen: 0.05\n",
      "Jilin: 0.05\n",
      "Pingdingshan Henan: 0.05\n",
      "Xiangtan Hunan: 0.05\n",
      "Xiongan: 0.05\n",
      "Jiddah: 0.04\n",
      "Phnom Penh: 0.04\n",
      "Perth: 0.04\n",
      "Port Elizabeth: 0.04\n",
      "Port Harcourt: 0.03\n",
      "Jakarta: 0.03\n",
      "Puebla: 0.03\n",
      "Pretoria: 0.03\n",
      "Patna: 0.03\n",
      "Philadelphia: 0.03\n",
      "Joao Pessoa: 0.03\n",
      "Jinhua: 0.03\n",
      "Paris: 0.02\n",
      "Cairo: 0.00\n",
      "Beijing: 0.00\n",
      "Chongqing: 0.00\n",
      "Buenos Aires: 0.00\n",
      "Bangalore: 0.00\n",
      "Chennai: 0.00\n",
      "Bogota: 0.00\n",
      "Bangkok: 0.00\n",
      "Chengdu: 0.00\n",
      "Baghdad: 0.00\n",
      "Foshan: 0.00\n",
      "Belo Horizonte: 0.00\n",
      "Qingdao: 0.00\n",
      "Barcelona: 0.00\n",
      "Chittagong: 0.00\n",
      "Fukuoka: 0.00\n",
      "Changsha: 0.00\n",
      "Cape Town: 0.00\n",
      "Brasilia: 0.00\n",
      "Changchun: 0.00\n",
      "Fortaleza: 0.00\n",
      "Changzhou: 0.00\n",
      "Fuzhou Fujian: 0.00\n",
      "Casablanca: 0.00\n",
      "Curitiba: 0.00\n",
      "Bekasi: 0.00\n",
      "Faisalabad: 0.00\n",
      "Berlin: 0.00\n",
      "Busan: 0.00\n",
      "Campinas: 0.00\n",
      "Coimbatore: 0.00\n",
      "Bamako: 0.00\n",
      "Caracas: 0.00\n",
      "Cali: 0.00\n",
      "Brazzaville: 0.00\n",
      "Bandung: 0.00\n",
      "Birmingham: 0.00\n",
      "Chicago: 0.00\n",
      "Bhopal: 0.00\n",
      "Brisbane: 0.00\n",
      "Baku: 0.00\n",
      "Belem: 0.00\n",
      "Beirut: 0.00\n",
      "Baotou: 0.00\n",
      "Barranquilla: 0.00\n",
      "Conakry: 0.00\n",
      "Baoding: 0.00\n",
      "Brussels: 0.00\n",
      "Bursa: 0.00\n",
      "Quito: 0.00\n",
      "Benin City: 0.00\n",
      "Baixada Santista: 0.00\n",
      "Can Tho: 0.00\n",
      "Quanzhou: 0.00\n",
      "Cixi: 0.00\n",
      "Batam: 0.00\n",
      "Budapest: 0.00\n",
      "Bucharest: 0.00\n",
      "Qinhuangdao: 0.00\n",
      "Calgary: 0.00\n",
      "Qiqihaer: 0.00\n",
      "Cordoba: 0.00\n",
      "Ciudad Juarez: 0.00\n",
      "Chaozhou: 0.00\n",
      "Basra: 0.00\n",
      "Chon Buri: 0.00\n",
      "Queretaro: 0.00\n",
      "Cochabamba: 0.00\n",
      "Belgrade: 0.00\n",
      "Bucaramanga: 0.00\n",
      "Copenhagen: 0.00\n",
      "Bareilly: 0.00\n",
      "Qom: 0.00\n",
      "Freetown: 0.00\n",
      "Fushun Liaoning: 0.00\n",
      "Fes: 0.00\n",
      "Florianopolis: 0.00\n",
      "Bukavu: 0.00\n",
      "Baoji: 0.00\n",
      "Bhubaneswar: 0.00\n",
      "Chifeng: 0.00\n",
      "Bujumbura: 0.00\n",
      "Barquisimeto: 0.00\n",
      "Bogor: 0.00\n",
      "Chelyabinsk: 0.00\n",
      "Chandigarh: 0.00\n",
      "Benxi: 0.00\n",
      "Binzhou: 0.00\n",
      "Chiang Mai: 0.00\n",
      "Bazhong: 0.00\n",
      "Quetta: 0.00\n",
      "Bandar Lampung: 0.00\n",
      "Bobo Dioulasso: 0.00\n"
     ]
    }
   ],
   "source": [
    "high_ratio_nodes = {}\n",
    "\n",
    "for node in cities_graph.nodes():\n",
    "    in_degree = cities_graph.in_degree(node)\n",
    "    out_degree = cities_graph.out_degree(node)\n",
    "    \n",
    "    # Avoid division by zero\n",
    "    if out_degree == 0:\n",
    "        ratio = float('inf')  # If out-degree is 0, set ratio to infinity\n",
    "    else:\n",
    "        ratio = in_degree / out_degree\n",
    "    \n",
    "    high_ratio_nodes[node] = ratio\n",
    "\n",
    "# Sort nodes by highest in-degree to out-degree ratio\n",
    "sorted_nodes = sorted(high_ratio_nodes.items(), key=lambda x: x[1], reverse=True)\n",
    "\n",
    "# Print nodes with the highest ratios\n",
    "print(\"Nodes with highest in-degree to out-degree ratio:\")\n",
    "for node, ratio in sorted_nodes:\n",
    "    print(f\"{node}: {ratio:.2f}\")"
   ]
  },
  {
   "cell_type": "code",
   "execution_count": 122,
   "id": "7bd9ec54-cf30-4a0c-b57c-611fd55f3e6d",
   "metadata": {},
   "outputs": [],
   "source": [
    "sccs = list(nx.strongly_connected_components(cities_graph))"
   ]
  },
  {
   "cell_type": "code",
   "execution_count": 123,
   "id": "b910995d-4be8-441c-a497-3dd11f404a79",
   "metadata": {},
   "outputs": [
    {
     "name": "stdout",
     "output_type": "stream",
     "text": [
      "SCC 1: {'Da Nang', 'Rio De Janeiro', 'Zurich', 'Haikou', 'Konya', 'Amsterdam', 'Indore', 'Depok', 'Huaian', 'Ottawa', 'Tabriz', 'Joao Pessoa', 'Sanaa', 'Salvador', 'Guiyang', 'Almaty', 'Jamshedpur', 'Marseille', 'Guayaquil', 'Suweon', 'Jinzhou', 'Leon De Los Aldamas', 'Panama City', 'Nashik', 'Kaduna', 'Yinchuan', 'Recife', 'Ningbo', 'Zhengzhou', 'Hamburg', 'Dakar', 'Suzhou', 'Maracaibo', 'Pretoria', 'Weifang', 'Srinagar', 'Houston', 'Seoul', 'Mombasa', 'Ekurhuleni', 'Antananarivo', 'Hohhot', 'Kozhikode', 'Porto', 'Meerut', 'Tianjin', 'Maputo', 'New Taipei', 'Gaziantep', 'Prague', 'Monterrey', 'Kampala', 'Palembang', 'Hai Phong', 'Kano', 'Hangzhou', 'Mecca', 'Tripoli', 'Krasnoyarsk', 'San Luis Potosi', 'Melbourne', 'Kanpur', 'Multan', 'Taipei', 'Dhanbad', 'Luanda', 'Tasikmalaya', 'Santa Cruz', 'Suqian', 'Paris', 'Stockholm', 'Los Angeles', 'Jaipur', 'Kabul', 'Port Elizabeth', 'Lyon', 'Mianyang Sichuan', 'Madrid', 'Nantong', 'Dubai', 'New York City', 'Gwalior', 'Tiruppur', 'Ranchi', 'Valencia', 'San Diego', 'Moradabad', 'Dongying', 'Surat', 'Tangerang', 'Sharjah', 'Taizhong', 'Kolkata', 'Phnom Penh', 'Daqing', 'Aba', 'Lubumbashi', 'Ahmedabad', 'Shenyang', 'Kisangani', 'Jabalpur', 'Lahore', 'Peshawar', 'Osaka', 'Douala', 'Nagoya', 'Taizhou Zhejiang', 'Shanghai', 'Karaj', 'Lilongwe', 'Davao City', 'Uyo', 'Ji Nan Shandong', 'Tiruchirappalli', 'Addis Ababa', 'Zhenjiang Jiangsu', 'Esfahan', 'Gaoxiong', 'San Antonio', 'Xiangtan Hunan', 'Adelaide', 'Nanyang Henan', 'Aleppo', 'Sendai', 'Kuala Lumpur', 'Kuwait City', 'Lucknow', 'Dar Es Salaam', 'Mexicali', 'Tengzhou', 'Xi An', 'Algiers', 'Haerbin', 'Liuzhou', 'Semarang', 'Izmir', 'Liuyang', 'Anshan', 'Hubli Dharwad', 'Sofia', 'Kinshasa', 'Hiroshima', 'Gujranwala', 'Auckland', 'Xiangyang', 'Phoenix', 'Helsinki', 'Zhanjiang', 'Mysore', 'Tanger', 'Xining', 'Vadodara', 'Jodhpur', 'Kunming', 'La Paz', 'Asansol', 'Sapporo', 'Moscow', 'Abuja', 'Lagos', 'Grande Sao Luis', 'Wuhu Anhui', 'Shantou', 'Mendoza', 'Sao Paulo', 'Hengyang', 'Taian Shandong', 'Dongguan', 'Xiamen', 'Huainan', 'Kazan', 'Yueqing', 'Singapore', 'Liupanshui', 'Jiaxing', 'Naples', 'Antalya', 'Toluca De Lerdo', 'Dallas', 'Khartoum', 'Karachi', 'Shiyan', 'Tashkent', 'Kathmandu', 'Kannur', 'Datong', 'Yaounde', 'Porto Alegre', 'Niamey', 'Accra', 'Zibo', 'Saharanpur', 'Jining Shandong', 'Gwangju', 'Omsk', 'Puning', 'Taizhou Jiangsu', 'Port Harcourt', 'Istanbul', 'Alexandria', 'Nnewi', 'Huizhou', 'N Djamena', 'Muscat', 'Nanning', 'Tunis', 'Goiania', 'Amritsar', 'Yangzhou', 'Mandalay', 'Patna', 'Shijiazhuang', 'Abomey Calavi', 'Surabaya', 'Santiago', 'Abu Dhabi', 'Shiraz', 'Montreal', 'Pingdingshan Henan', 'Zunyi', 'Abidjan', 'Nouakchott', 'Homs', 'Daegu', 'Ganzhou', 'Kota', 'Xuzhou', 'Maracay', 'Nizhniy Novgorod', 'Tehran', 'Incheon', 'San Juan', 'Port Au Prince', 'Kananga', 'Thrissur', 'Visakhapatnam', 'Santo Domingo', 'Asuncion', 'Rajkot', 'Allahabad', 'Vienna', 'Yichang', 'Guadalajara', 'Lome', 'Lianyungang', 'Guatemala City', 'Dalian', 'Havana', 'Pointe Noire', 'Hargeysa', 'Munich', 'Pekan Baru', 'Salem', 'Maceio', 'Makassar', 'Siliguri', 'Mbuji Mayi', 'Jakarta', 'Medellin', 'Luoyang', 'Glasgow', 'Rosario', 'San Jose', 'Nanchang', 'Nagpur', 'Madurai', 'Taoyuan', 'Tokyo', 'Ruian', 'Shimkent', 'Ouagadougou', 'Onitsha', 'Athens', 'Mashhad', 'Zhongshan', 'Medina', 'Shenzhen', 'Ludhiana', 'Damascus', 'Ulaanbaatar', 'Xiongan', 'Wenzhou', 'Nanchong', 'Yiwu', 'Durban', 'Wenling', 'Dublin', 'Vijayawada', 'Yingkou', 'Hyderabad', 'Rizhao', 'Jieyang', 'Shizuoka', 'Urumqi', 'Kumasi', 'Yantai', 'Minsk', 'Guilin', 'Islamabad', 'Astana', 'Pizhou', 'Adana', 'Putian', 'Pyongyang', 'Natal', 'Kollam', 'Sydney', 'Mwanza', 'Guwahati', 'Tegucigalpa', 'Anyang', 'Manila', 'Haifa', 'Xinxiang', 'Aurangabad', 'Turin', 'Zhangjiakou', 'Ibadan', 'Guangzhou', 'Lusaka', 'Hefei', 'Tangshan Hebei', 'Mogadishu', 'Grande Vitoria', 'Durg Bhilainagar', 'Medan', 'London', 'Malappuram', 'Toronto', 'Puebla', 'Tel Aviv', 'Varanasi', 'Novosibirsk', 'Lisbon', 'Aguascalientes', 'Kigali', 'Ad Dammam', 'Matola', 'Johannesburg', 'Wuhan', 'Liuan', 'Linyi Shandong', 'Kiev', 'Saint Petersburg', 'Thiruvananthapuram', 'Wuxi', 'Lima', 'Merida', 'Manaus', 'Weihai', 'Mexico City', 'Riyadh', 'Rawalpindi', 'Jinhua', 'Manchester', 'Joinville', 'Yekaterinburg', 'Aligarh', 'Hanoi', 'Pune', 'Agra', 'West Yorkshire', 'Vancouver', 'Raipur', 'Montevideo', 'Taiyuan Shanxi', 'Mumbai', 'Kharkiv', 'Kochi', 'Jiddah', 'Monrovia', 'Tijuana', 'Harare', 'Warsaw', 'Mosul', 'Ahvaz', 'Lanzhou', 'Shaoxing', 'Luohe', 'Nairobi', 'Edmonton', 'Zhuzhou', 'Samut Prakan', 'Delhi', 'Jiangmen', 'Milan', 'Rome', 'Amman', 'Samara', 'Ho Chi Minh City', 'Nanjing', 'Rabat', 'Hong Kong', 'Handan', 'Yangon', 'Daejon', 'Perth', 'Philadelphia', 'Maoming', 'La Laguna', 'Ankara', 'Huaibei', 'Kaifeng', 'Yancheng Jiangsu', 'Dhaka', 'Zhuhai', 'Jilin'}\n",
      "SCC 2: {'Cairo'}\n",
      "SCC 3: {'Beijing'}\n",
      "SCC 4: {'Chongqing'}\n",
      "SCC 5: {'Buenos Aires'}\n",
      "SCC 6: {'Bangalore'}\n",
      "SCC 7: {'Chennai'}\n",
      "SCC 8: {'Bogota'}\n",
      "SCC 9: {'Bangkok'}\n",
      "SCC 10: {'Chengdu'}\n",
      "SCC 11: {'Baghdad'}\n",
      "SCC 12: {'Foshan'}\n",
      "SCC 13: {'Belo Horizonte'}\n",
      "SCC 14: {'Qingdao'}\n",
      "SCC 15: {'Barcelona'}\n",
      "SCC 16: {'Chittagong'}\n",
      "SCC 17: {'Fukuoka'}\n",
      "SCC 18: {'Changsha'}\n",
      "SCC 19: {'Cape Town'}\n",
      "SCC 20: {'Brasilia'}\n",
      "SCC 21: {'Changchun'}\n",
      "SCC 22: {'Fortaleza'}\n",
      "SCC 23: {'Changzhou'}\n",
      "SCC 24: {'Fuzhou Fujian'}\n",
      "SCC 25: {'Casablanca'}\n",
      "SCC 26: {'Curitiba'}\n",
      "SCC 27: {'Bekasi'}\n",
      "SCC 28: {'Faisalabad'}\n",
      "SCC 29: {'Berlin'}\n",
      "SCC 30: {'Busan'}\n",
      "SCC 31: {'Campinas'}\n",
      "SCC 32: {'Coimbatore'}\n",
      "SCC 33: {'Bamako'}\n",
      "SCC 34: {'Caracas'}\n",
      "SCC 35: {'Cali'}\n",
      "SCC 36: {'Brazzaville'}\n",
      "SCC 37: {'Bandung'}\n",
      "SCC 38: {'Birmingham'}\n",
      "SCC 39: {'Chicago'}\n",
      "SCC 40: {'Bhopal'}\n",
      "SCC 41: {'Brisbane'}\n",
      "SCC 42: {'Baku'}\n",
      "SCC 43: {'Belem'}\n",
      "SCC 44: {'Beirut'}\n",
      "SCC 45: {'Baotou'}\n",
      "SCC 46: {'Barranquilla'}\n",
      "SCC 47: {'Conakry'}\n",
      "SCC 48: {'Baoding'}\n",
      "SCC 49: {'Brussels'}\n",
      "SCC 50: {'Bursa'}\n",
      "SCC 51: {'Quito'}\n",
      "SCC 52: {'Benin City'}\n",
      "SCC 53: {'Baixada Santista'}\n",
      "SCC 54: {'Can Tho'}\n",
      "SCC 55: {'Quanzhou'}\n",
      "SCC 56: {'Cixi'}\n",
      "SCC 57: {'Batam'}\n",
      "SCC 58: {'Budapest'}\n",
      "SCC 59: {'Bucharest'}\n",
      "SCC 60: {'Qinhuangdao'}\n",
      "SCC 61: {'Calgary'}\n",
      "SCC 62: {'Qiqihaer'}\n",
      "SCC 63: {'Cordoba'}\n",
      "SCC 64: {'Ciudad Juarez'}\n",
      "SCC 65: {'Chaozhou'}\n",
      "SCC 66: {'Basra'}\n",
      "SCC 67: {'Chon Buri'}\n",
      "SCC 68: {'Queretaro'}\n",
      "SCC 69: {'Cochabamba'}\n",
      "SCC 70: {'Belgrade'}\n",
      "SCC 71: {'Bucaramanga'}\n",
      "SCC 72: {'Copenhagen'}\n",
      "SCC 73: {'Bareilly'}\n",
      "SCC 74: {'Qom'}\n",
      "SCC 75: {'Freetown'}\n",
      "SCC 76: {'Fushun Liaoning'}\n",
      "SCC 77: {'Fes'}\n",
      "SCC 78: {'Florianopolis'}\n",
      "SCC 79: {'Bukavu'}\n",
      "SCC 80: {'Baoji'}\n",
      "SCC 81: {'Bhubaneswar'}\n",
      "SCC 82: {'Chifeng'}\n",
      "SCC 83: {'Bujumbura'}\n",
      "SCC 84: {'Barquisimeto'}\n",
      "SCC 85: {'Bogor'}\n",
      "SCC 86: {'Chelyabinsk'}\n",
      "SCC 87: {'Chandigarh'}\n",
      "SCC 88: {'Benxi'}\n",
      "SCC 89: {'Binzhou'}\n",
      "SCC 90: {'Chiang Mai'}\n",
      "SCC 91: {'Bazhong'}\n",
      "SCC 92: {'Quetta'}\n",
      "SCC 93: {'Bandar Lampung'}\n",
      "SCC 94: {'Bobo Dioulasso'}\n"
     ]
    }
   ],
   "source": [
    "for i, scc in enumerate(sccs, 1):\n",
    "    print(f\"SCC {i}: {scc}\")"
   ]
  },
  {
   "cell_type": "code",
   "execution_count": 113,
   "id": "e4cadbac-e019-4725-b7f6-f1cb69d69757",
   "metadata": {},
   "outputs": [],
   "source": [
    "with open(\"mixed_graph.pkl\", \"rb\") as f:\n",
    "    mixed_graph = pickle.load(f)"
   ]
  },
  {
   "cell_type": "code",
   "execution_count": 114,
   "id": "c10cee95-8db1-48cf-84b6-a624db4064d1",
   "metadata": {},
   "outputs": [
    {
     "name": "stdout",
     "output_type": "stream",
     "text": [
      "['Tokyo', 'Delhi', 'Shanghai', 'Dhaka', 'Sao Paulo', 'Cairo', 'Mexico City', 'Beijing', 'Mumbai', 'Osaka', 'Chongqing', 'Karachi', 'Kinshasa', 'Lagos', 'Istanbul', 'Buenos Aires', 'Kolkata', 'Manila', 'Guangzhou', 'Tianjin', 'Lahore', 'Bangalore', 'Rio De Janeiro', 'Shenzhen', 'Moscow', 'Chennai', 'Bogota', 'Jakarta', 'Lima', 'Paris', 'Bangkok', 'Hyderabad', 'Seoul', 'Nanjing', 'Chengdu', 'London', 'Luanda', 'Tehran', 'Ho Chi Minh City', 'Nagoya', 'Xi An', 'Ahmedabad', 'Wuhan', 'Kuala Lumpur', 'Hangzhou', 'Suzhou', 'Surat', 'Dar Es Salaam', 'New York City', 'Baghdad', 'Shenyang', 'Riyadh', 'Hong Kong', 'Foshan', 'Dongguan', 'Pune', 'Santiago', 'Haerbin', 'Madrid', 'Khartoum', 'Toronto', 'Johannesburg', 'Belo Horizonte', 'Dalian', 'Singapore', 'Qingdao', 'Zhengzhou', 'Ji Nan Shandong', 'Abidjan', 'Barcelona', 'Yangon', 'Addis Ababa', 'Alexandria', 'Saint Petersburg', 'Nairobi', 'Chittagong', 'Guadalajara', 'Fukuoka', 'Ankara', 'Hanoi', 'Melbourne', 'Monterrey', 'Sydney', 'Changsha', 'Urumqi', 'Cape Town', 'Jiddah', 'Brasilia', 'Kunming', 'Changchun', 'Kabul', 'Hefei', 'Yaounde', 'Ningbo', 'Shantou', 'New Taipei', 'Tel Aviv', 'Kano', 'Shijiazhuang', 'Montreal', 'Rome', 'Jaipur', 'Recife', 'Nanning', 'Fortaleza', 'Kozhikode', 'Porto Alegre', 'Taiyuan Shanxi', 'Douala', 'Ekurhuleni', 'Malappuram', 'Medellin', 'Changzhou', 'Kampala', 'Antananarivo', 'Lucknow', 'Abuja', 'Nanchang', 'Wenzhou', 'Xiamen', 'Ibadan', 'Fuzhou Fujian', 'Salvador', 'Casablanca', 'Tangshan Hebei', 'Kumasi', 'Curitiba', 'Bekasi', 'Faisalabad', 'Los Angeles', 'Guiyang', 'Port Harcourt', 'Thrissur', 'Santo Domingo', 'Berlin', 'Asuncion', 'Dakar', 'Kochi', 'Wuxi', 'Busan', 'Campinas', 'Mashhad', 'Sanaa', 'Puebla', 'Indore', 'Lanzhou', 'Ouagadougou', 'Kuwait City', 'Lusaka', 'Kanpur', 'Durban', 'Guayaquil', 'Pyongyang', 'Milan', 'Guatemala City', 'Athens', 'Depok', 'Izmir', 'Nagpur', 'Surabaya', 'Handan', 'Coimbatore', 'Huaian', 'Port Au Prince', 'Zhongshan', 'Dubai', 'Bamako', 'Mbuji Mayi', 'Kiev', 'Lisbon', 'Weifang', 'Caracas', 'Thiruvananthapuram', 'Algiers', 'Shizuoka', 'Lubumbashi', 'Cali', 'Goiania', 'Pretoria', 'Shaoxing', 'Incheon', 'Yantai', 'Zibo', 'Huizhou', 'Manchester', 'Taipei', 'Mogadishu', 'Brazzaville', 'Accra', 'Bandung', 'Damascus', 'Birmingham', 'Vancouver', 'Toluca De Lerdo', 'Luoyang', 'Sapporo', 'Chicago', 'Tashkent', 'Patna', 'Bhopal', 'Tangerang', 'Nantong', 'Brisbane', 'Tunis', 'Peshawar', 'Medan', 'Gujranwala', 'Baku', 'Hohhot', 'San Juan', 'Belem', 'Rawalpindi', 'Agra', 'Manaus', 'Kannur', 'Beirut', 'Maracaibo', 'Liuzhou', 'Visakhapatnam', 'Baotou', 'Vadodara', 'Barranquilla', 'Phnom Penh', 'Sendai', 'Taoyuan', 'Xuzhou', 'Houston', 'Aleppo', 'Tijuana', 'Esfahan', 'Nashik', 'Vijayawada', 'Amman', 'Putian', 'Multan', 'Grande Vitoria', 'Wuhu Anhui', 'Mecca', 'Kollam', 'Naples', 'Daegu', 'Conakry', 'Yangzhou', 'Havana', 'Taizhou Zhejiang', 'Baoding', 'Perth', 'Brussels', 'Linyi Shandong', 'Bursa', 'Rajkot', 'Minsk', 'Hiroshima', 'Haikou', 'Daqing', 'Lome', 'Lianyungang', 'Yancheng Jiangsu', 'Panama City', 'Almaty', 'Semarang', 'Valencia', 'Davao City', 'Vienna', 'Rabat', 'Ludhiana', 'Quito', 'Benin City', 'La Paz', 'Baixada Santista', 'West Yorkshire', 'Can Tho', 'Zhuhai', 'Leon De Los Aldamas', 'Quanzhou', 'Matola', 'Datong', 'Sharjah', 'Madurai', 'Raipur', 'Adana', 'Santa Cruz', 'Palembang', 'Mosul', 'Cixi', 'Meerut', 'Gaziantep', 'La Laguna', 'Batam', 'Turin', 'Warsaw', 'Jiangmen', 'Varanasi', 'Hamburg', 'Montevideo', 'Budapest', 'Lyon', 'Xiangyang', 'Bucharest', 'Yichang', 'Yinchuan', 'Shiraz', 'Kananga', 'Srinagar', 'Monrovia', 'Tiruppur', 'Jamshedpur', 'Suqian', 'Aurangabad', 'Qinhuangdao', 'Stockholm', 'Anshan', 'Glasgow', 'Xining', 'Makassar', 'Hengyang', 'Novosibirsk', 'Ulaanbaatar', 'Onitsha', 'Jilin', 'Anyang', 'Auckland', 'Tabriz', 'Muscat', 'Calgary', 'Phoenix', 'Qiqihaer', 'N Djamena', 'Marseille', 'Cordoba', 'Jodhpur', 'Kathmandu', 'Rosario', 'Tegucigalpa', 'Ciudad Juarez', 'Harare', 'Karaj', 'Medina', 'Jining Shandong', 'Abu Dhabi', 'Munich', 'Ranchi', 'Daejon', 'Zhangjiakou', 'Edmonton', 'Mandalay', 'Gaoxiong', 'Kota', 'Natal', 'Nouakchott', 'Jabalpur', 'Huainan', 'Grande Sao Luis', 'Asansol', 'Philadelphia', 'Yekaterinburg', 'Gwangju', 'Yiwu', 'Chaozhou', 'San Antonio', 'Gwalior', 'Ganzhou', 'Homs', 'Niamey', 'Mombasa', 'Allahabad', 'Basra', 'Kisangani', 'San Jose', 'Amritsar', 'Taizhou Jiangsu', 'Chon Buri', 'Jiaxing', 'Weihai', 'Hai Phong', 'Ottawa', 'Zurich', 'Taian Shandong', 'Queretaro', 'Joao Pessoa', 'Kaifeng', 'Cochabamba', 'Konya', 'Liuyang', 'Liuan', 'Rizhao', 'Kharkiv', 'Dhanbad', 'Nanchong', 'Dongying', 'Belgrade', 'Zunyi', 'Zhanjiang', 'Bucaramanga', 'Uyo', 'Copenhagen', 'San Diego', 'Shiyan', 'Taizhong', 'Bareilly', 'Pointe Noire', 'Adelaide', 'Suweon', 'Mwanza', 'Mianyang Sichuan', 'Samut Prakan', 'Maceio', 'Qom', 'Antalya', 'Joinville', 'Tengzhou', 'Yingkou', 'Ad Dammam', 'Tanger', 'Freetown', 'Helsinki', 'Aligarh', 'Moradabad', 'Pekan Baru', 'Maoming', 'Lilongwe', 'Porto', 'Prague', 'Astana', 'Jieyang', 'Fushun Liaoning', 'Mysore', 'Abomey Calavi', 'Ruian', 'Fes', 'Port Elizabeth', 'Florianopolis', 'Ahvaz', 'Bukavu', 'Dallas', 'Nnewi', 'Kazan', 'Jinhua', 'San Luis Potosi', 'Baoji', 'Durg Bhilainagar', 'Bhubaneswar', 'Kigali', 'Sofia', 'Pingdingshan Henan', 'Dublin', 'Puning', 'Chifeng', 'Zhuzhou', 'Bujumbura', 'Zhenjiang Jiangsu', 'Liupanshui', 'Barquisimeto', 'Islamabad', 'Huaibei', 'Tasikmalaya', 'Maracay', 'Bogor', 'Da Nang', 'Nanyang Henan', 'Nizhniy Novgorod', 'Xiangtan Hunan', 'Pizhou', 'Tiruchirappalli', 'Chelyabinsk', 'Mendoza', 'Luohe', 'Xiongan', 'Chandigarh', 'Merida', 'Jinzhou', 'Benxi', 'Binzhou', 'Aba', 'Chiang Mai', 'Bazhong', 'Quetta', 'Kaduna', 'Guilin', 'Saharanpur', 'Hubli Dharwad', 'Yueqing', 'Guwahati', 'Mexicali', 'Salem', 'Maputo', 'Tripoli', 'Haifa', 'Bandar Lampung', 'Bobo Dioulasso', 'Amsterdam', 'Shimkent', 'Omsk', 'Aguascalientes', 'Hargeysa', 'Krasnoyarsk', 'Xinxiang', 'Siliguri', 'Wenling', 'Samara', 'Afghanistan', 'Albania', 'Algeria', 'Andorra', 'Angola', 'Antigua and Barbuda', 'Argentina', 'Armenia', 'Australia', 'Austria', 'Azerbaijan', 'Bahamas', 'Bahrain', 'Bangladesh', 'Barbados', 'Belarus', 'Belgium', 'Belize', 'Benin', 'Bhutan', 'Bolivia', 'Bosnia and Herzegovina', 'Botswana', 'Brazil', 'Brunei', 'Bulgaria', 'Burkina Faso', 'Burma', 'Burundi', 'Cabo Verde', 'Cambodia', 'Cameroon', 'Canada', 'Central African Republic', 'Chad', 'Chile', 'China', 'Colombia', 'Comoros', 'Republic of Congo', 'Democratic Republic of Congo', 'Cook Islands', 'Costa Rica', 'Côte d’Ivoire', 'Croatia', 'Cuba', 'Cyprus', 'Czechia', 'Denmark', 'Djibouti', 'Dominica', 'Dominican Republic', 'Ecuador', 'Egypt', 'El Salvador', 'Equatorial Guinea', 'Eritrea', 'Estonia', 'Eswatini', 'Ethiopia', 'Fiji', 'Finland', 'France', 'Gabon', 'Gambia', 'Georgia', 'Germany', 'Ghana', 'Greece', 'Grenada', 'Guatemala', 'Guinea', 'Guinea-Bissau', 'Guyana', 'Haiti', 'Holy See', 'Honduras', 'Hungary', 'Iceland', 'India', 'Indonesia', 'Iran', 'Iraq', 'Ireland', 'Israel', 'Italy', 'Jamaica', 'Japan', 'Jordan', 'Kazakhstan', 'Kenya', 'Kiribati', 'North Korea', 'South Korea', 'Kosovo', 'Kuwait', 'Kyrgyzstan', 'Laos', 'Latvia', 'Lebanon', 'Lesotho', 'Liberia', 'Libya', 'Liechtenstein', 'Lithuania', 'Luxembourg', 'Madagascar', 'Malawi', 'Malaysia', 'Maldives', 'Mali', 'Malta', 'Marshall Islands', 'Mauritania', 'Mauritius', 'Mexico', 'Micronesia', 'Moldova', 'Monaco', 'Mongolia', 'Montenegro', 'Morocco', 'Mozambique', 'Namibia', 'Nauru', 'Nepal', 'Netherlands', 'New Zealand', 'Nicaragua', 'Niger', 'Nigeria', 'Niue', 'North Macedonia', 'Norway', 'Oman', 'Pakistan', 'Palau', 'Panama', 'Papua New Guinea', 'Paraguay', 'Peru', 'Philippines', 'Poland', 'Portugal', 'Qatar', 'Romania', 'Russia', 'Rwanda', 'Saint Kitts and Nevis', 'Saint Lucia', 'Saint Vincent and the Grenadines', 'Samoa', 'San Marino', 'Sao Tome and Principe', 'Saudi Arabia', 'Senegal', 'Serbia', 'Seychelles', 'Sierra Leone', 'Slovakia', 'Slovenia', 'Solomon Islands', 'Somalia', 'South Africa', 'South Sudan', 'Spain', 'Sri Lanka', 'Sudan', 'Suriname', 'Sweden', 'Switzerland', 'Syria', 'Tajikistan', 'Tanzania', 'Thailand', 'Timor-Leste', 'Togo', 'Tonga', 'Trinidad and Tobago', 'Tunisia', 'Turkey', 'Turkmenistan', 'Tuvalu', 'Uganda', 'Ukraine', 'United Arab Emirates', 'United Kingdom', 'United States', 'Uruguay', 'Uzbekistan', 'Vanuatu', 'Venezuela', 'Vietnam', 'Yemen', 'Zambia', 'Zimbabwe']\n"
     ]
    }
   ],
   "source": [
    "print(mixed_graph.nodes())"
   ]
  },
  {
   "cell_type": "code",
   "execution_count": 115,
   "id": "828134d7-7819-44e3-bbbf-443b6eeb59cb",
   "metadata": {},
   "outputs": [
    {
     "name": "stdout",
     "output_type": "stream",
     "text": [
      "DiGraph with 696 nodes and 20628 edges\n"
     ]
    }
   ],
   "source": [
    "print(mixed_graph)"
   ]
  },
  {
   "cell_type": "code",
   "execution_count": 116,
   "id": "d5944776-d2ef-4759-9f33-7eacd5e65255",
   "metadata": {},
   "outputs": [],
   "source": [
    "indegree_zero_nodes = []"
   ]
  },
  {
   "cell_type": "code",
   "execution_count": 117,
   "id": "b9e8cb4f-26b6-437d-ada4-34a42dc85cc9",
   "metadata": {},
   "outputs": [],
   "source": [
    "for node in mixed_graph.in_degree() : \n",
    "    if(node[1] == 0) : \n",
    "        indegree_zero_nodes.append(node[0])"
   ]
  },
  {
   "cell_type": "code",
   "execution_count": 118,
   "id": "2df2a2fd-11ca-48bb-86eb-2ae75e07bdf3",
   "metadata": {},
   "outputs": [
    {
     "name": "stdout",
     "output_type": "stream",
     "text": [
      "['Beijing', 'Buenos Aires', 'Bangalore', 'Bogota', 'Bangkok', 'Baghdad', 'Foshan', 'Belo Horizonte', 'Barcelona', 'Fukuoka', 'Brasilia', 'Fortaleza', 'Fuzhou Fujian', 'Bekasi', 'Faisalabad', 'Berlin', 'Busan', 'Bamako', 'Brazzaville', 'Bandung', 'Birmingham', 'Bhopal', 'Brisbane', 'Baku', 'Belem', 'Beirut', 'Baotou', 'Barranquilla', 'Baoding', 'Brussels', 'Bursa', 'Benin City', 'Baixada Santista', 'Batam', 'Budapest', 'Bucharest', 'Basra', 'Belgrade', 'Bucaramanga', 'Bareilly', 'Freetown', 'Fushun Liaoning', 'Fes', 'Florianopolis', 'Bukavu', 'Baoji', 'Bhubaneswar', 'Bujumbura', 'Barquisimeto', 'Bogor', 'Benxi', 'Binzhou', 'Bazhong', 'Bandar Lampung', 'Bobo Dioulasso', 'Bahamas', 'Bahrain', 'Bangladesh', 'Barbados', 'Belarus', 'Belgium', 'Belize', 'Benin', 'Bhutan', 'Bolivia', 'Bosnia and Herzegovina', 'Botswana', 'Brazil', 'Brunei', 'Bulgaria', 'Burkina Faso', 'Burma', 'Burundi', 'Fiji', 'Finland', 'France']\n"
     ]
    }
   ],
   "source": [
    "print(indegree_zero_nodes)"
   ]
  },
  {
   "cell_type": "code",
   "execution_count": 119,
   "id": "f506bf2a-8520-464c-9250-b97c47036d60",
   "metadata": {},
   "outputs": [
    {
     "name": "stdout",
     "output_type": "stream",
     "text": [
      "76\n"
     ]
    }
   ],
   "source": [
    "print(len(indegree_zero_nodes))\n",
    "mixed_do_not_end_in = set()\n",
    "for str in indegree_zero_nodes : \n",
    "    mixed_do_not_end_in.add(str[0].lower())"
   ]
  },
  {
   "cell_type": "code",
   "execution_count": 120,
   "id": "fa182ee9-e355-484c-ae35-b2678d564313",
   "metadata": {},
   "outputs": [
    {
     "name": "stdout",
     "output_type": "stream",
     "text": [
      "{'f', 'b'}\n"
     ]
    }
   ],
   "source": [
    "print(mixed_do_not_end_in)"
   ]
  },
  {
   "cell_type": "code",
   "execution_count": 121,
   "id": "8e3264e2-d8f9-46be-9859-2d8b011a1102",
   "metadata": {},
   "outputs": [],
   "source": [
    "# further analysis for mixed graph has been removed because of absence of any interesting pattern atleast in my exploration"
   ]
  }
 ],
 "metadata": {
  "kernelspec": {
   "display_name": "Python 3 (ipykernel)",
   "language": "python",
   "name": "python3"
  },
  "language_info": {
   "codemirror_mode": {
    "name": "ipython",
    "version": 3
   },
   "file_extension": ".py",
   "mimetype": "text/x-python",
   "name": "python",
   "nbconvert_exporter": "python",
   "pygments_lexer": "ipython3",
   "version": "3.11.8"
  }
 },
 "nbformat": 4,
 "nbformat_minor": 5
}
