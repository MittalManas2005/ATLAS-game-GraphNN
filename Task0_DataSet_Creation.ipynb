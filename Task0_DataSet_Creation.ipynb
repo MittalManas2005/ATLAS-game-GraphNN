{
 "cells": [
  {
   "cell_type": "markdown",
   "id": "a3aa17ea-3a35-49ae-9097-aea48b394b29",
   "metadata": {},
   "source": [
    "# DataSet Creation\n",
    "Aim : Scrape the web for officially recognized countries and Top 500 most populated cities on the planet and store and create a graph and store for future inference and use. \n",
    "\n",
    "<br>\n",
    "\n",
    "- To create a dataset of all \"officially recognized countries\". <br>\n",
    "- For this purpose I have chosen to use the names of the country recognized by the US Governement. <br>- \n",
    "- Total Country Count : 197 <br>\n",
    "- Source : https://www.state.gov/independent-states-in-the-world/\n",
    "\n",
    "- To create a dataset of top 500 most populated cities. <br>\n",
    "- Source : https://worldpopulationreview.com/cities\n"
   ]
  },
  {
   "cell_type": "code",
   "execution_count": 3,
   "id": "1de8c2eb-a699-472d-843a-6bf867792635",
   "metadata": {},
   "outputs": [
    {
     "name": "stdout",
     "output_type": "stream",
     "text": [
      "Requirement already satisfied: beautifulsoup4 in /Users/manasmittal/anaconda3/lib/python3.11/site-packages (4.12.2)\n",
      "Requirement already satisfied: soupsieve>1.2 in /Users/manasmittal/anaconda3/lib/python3.11/site-packages (from beautifulsoup4) (2.5)\n",
      "Note: you may need to restart the kernel to use updated packages.\n"
     ]
    }
   ],
   "source": [
    "pip install beautifulsoup4\n"
   ]
  },
  {
   "cell_type": "code",
   "execution_count": 4,
   "id": "d67323ed-3b83-44d0-a8ac-76503610a862",
   "metadata": {},
   "outputs": [],
   "source": [
    "import requests\n",
    "from bs4 import BeautifulSoup"
   ]
  },
  {
   "cell_type": "code",
   "execution_count": null,
   "id": "2a7b0465-f437-416e-8796-8abb566f96ac",
   "metadata": {
    "scrolled": true
   },
   "outputs": [],
   "source": [
    "\n",
    "headers = {\n",
    "    'User-Agent': 'Mozilla/5.0 (Windows NT 10.0; Win64; x64) AppleWebKit/537.36 (KHTML, like Gecko) Chrome/114.0.0.0 Safari/537.36'\n",
    "}\n",
    "\n",
    "url = 'https://www.state.gov/independent-states-in-the-world/'\n",
    "r = requests.get(url, headers=headers)\n",
    "\n",
    "if r.status_code == 200:\n",
    "    soup = BeautifulSoup(r.text, 'html.parser')\n",
    "    print(soup.prettify())\n",
    "else:\n",
    "    print(f\"Request failed with status code {r.status_code}\")"
   ]
  },
  {
   "cell_type": "code",
   "execution_count": 6,
   "id": "5192434e-b959-4572-84f1-c765049c4874",
   "metadata": {},
   "outputs": [],
   "source": [
    "import re "
   ]
  },
  {
   "cell_type": "code",
   "execution_count": 7,
   "id": "7461416f-f5a9-4e15-9545-38b37fdd648e",
   "metadata": {},
   "outputs": [],
   "source": [
    "data = soup.find_all('td', style= re.compile(r'width: 18\\.2994%'))"
   ]
  },
  {
   "cell_type": "code",
   "execution_count": 8,
   "id": "d2abd9d1-01e9-42bb-9665-762b3f3ab5c0",
   "metadata": {},
   "outputs": [
    {
     "name": "stdout",
     "output_type": "stream",
     "text": [
      "Afghanistan *+\n"
     ]
    }
   ],
   "source": [
    "print((data[0].text))"
   ]
  },
  {
   "cell_type": "code",
   "execution_count": 9,
   "id": "87f0ae40-5f55-40aa-8cc1-9be133e685ae",
   "metadata": {},
   "outputs": [],
   "source": [
    "import numpy as np\n",
    "countries = []\n",
    "for i in range (0, len(data)) :\n",
    "    countries.append(data[i].text)"
   ]
  },
  {
   "cell_type": "code",
   "execution_count": 10,
   "id": "5e546400-7e3f-4005-8da3-69f573cc894a",
   "metadata": {},
   "outputs": [
    {
     "name": "stdout",
     "output_type": "stream",
     "text": [
      "['Afghanistan *+', 'Albania *+', 'Algeria *+', 'Andorra *+', 'Angola *+', 'Antigua and\\nBarbuda *+', 'Argentina *+', 'Armenia *+', 'Australia *+', 'Austria *+', 'Azerbaijan *+', 'Bahamas, The *+', 'Bahrain *+', 'Bangladesh *+', 'Barbados *+', 'Belarus *+', 'Belgium *+', 'Belize *+', 'Benin *+', 'Bhutan +', 'Bolivia *+', 'Bosnia and\\nHerzegovina *+', 'Botswana *+', 'Brazil *+', 'Brunei *+', 'Bulgaria *+', 'Burkina Faso *+', 'Burma *+', 'Burundi *+', 'Cabo Verde *+', 'Cambodia *+', 'Cameroon *+', 'Canada *+', 'Central\\nAfrican Republic *+', 'Chad *+', 'Chile *+', 'China *+ (see note 3)', 'Colombia *+', 'Comoros *+', 'Congo (Brazzaville) *+\\n(see note 4)', 'Congo (Kinshasa) *+\\n(see note 4)', 'Cook Islands*', 'Costa Rica *+', 'Côte d’Ivoire *+', 'Croatia *+', 'Cuba *+', 'Cyprus *+', 'Czechia *+', 'Denmark *+', 'Djibouti *+', 'Dominica *+', 'Dominican Republic *+', 'Ecuador *+', 'Egypt *+', 'El Salvador *+', 'Equatorial Guinea *+', 'Eritrea *+', 'Estonia *+', 'Eswatini *+', 'Ethiopia *+', 'Fiji *+', 'Finland *+', 'France *+', 'Gabon *+', 'Gambia, The *+', 'Georgia *+', 'Germany *+', 'Ghana *+', 'Greece *+', 'Grenada *+', 'Guatemala *+', 'Guinea *+', 'Guinea-Bissau *+', 'Guyana *+', 'Haiti *+', 'Holy See *', 'Honduras *+', 'Hungary *+', 'Iceland *+', 'India *+', 'Indonesia *+', 'Iran +', 'Iraq *+', 'Ireland *+', 'Israel *+', 'Italy *+', 'Jamaica *+', 'Japan *+', 'Jordan *+', 'Kazakhstan *+', 'Kenya *+', 'Kiribati *+', 'Korea, North +', 'Korea, South *+', 'Kosovo *', 'Kuwait *+', 'Kyrgyzstan *+', 'Laos *+', 'Latvia *+', 'Lebanon *+', 'Lesotho *+', 'Liberia *+', 'Libya *+', 'Liechtenstein *+', 'Lithuania *+', 'Luxembourg *+', 'Madagascar *+', 'Malawi *+', 'Malaysia *+', 'Maldives *+', 'Mali *+', 'Malta *+', 'Marshall Islands *+', 'Mauritania *+', 'Mauritius *+', 'Mexico *+', 'Micronesia,\\nFederated States of *+', 'Moldova *+', 'Monaco *+', 'Mongolia *+', 'Montenegro *+', 'Morocco *+', 'Mozambique *+', 'Namibia *+', 'Nauru *+', 'Nepal *+', 'Netherlands *+', 'New Zealand *+', 'Nicaragua *+', 'Niger *+', 'Nigeria *+', 'Niue*', 'North Macedonia *+', 'Norway *+', 'Oman *+', 'Pakistan *+', 'Palau *+', 'Panama *+', 'Papua New Guinea *+', 'Paraguay *+', 'Peru *+', 'Philippines *+', 'Poland *+', 'Portugal *+', 'Qatar *+', 'Romania *+', 'Russia *+', 'Rwanda *+', 'Saint Kitts and Nevis *+', 'Saint Lucia *+', 'Saint Vincent and the Grenadines *+', 'Samoa *+', 'San Marino *+', 'Sao Tome and Principe *+', 'Saudi Arabia *+', 'Senegal *+', 'Serbia *+', 'Seychelles *+', 'Sierra Leone *+', 'Singapore *+', 'Slovakia *+', 'Slovenia *+', 'Solomon Islands *+', 'Somalia *+', 'South Africa *+', 'South Sudan *+', 'Spain *+', 'Sri Lanka *+', 'Sudan *+', 'Suriname *+', 'Sweden *+', 'Switzerland *+', 'Syria *+', 'Tajikistan *+', 'Tanzania *+', 'Thailand *+', 'Timor-Leste *+', 'Togo *+', 'Tonga *+', 'Trinidad and Tobago *+', 'Tunisia *+', 'Turkey *+\\n(see note 5)', 'Turkmenistan *+', 'Tuvalu *+', 'Uganda *+', 'Ukraine *+', 'United Arab Emirates *+', 'United Kingdom *+', 'United States +', 'Uruguay *+', 'Uzbekistan *+', 'Vanuatu *+', 'Venezuela *+', 'Vietnam *+', 'Yemen *+', 'Zambia *+', 'Zimbabwe *+']\n"
     ]
    }
   ],
   "source": [
    "print(countries)"
   ]
  },
  {
   "cell_type": "code",
   "execution_count": 11,
   "id": "44f2fc07-2f2e-4791-af69-10fdc645ef37",
   "metadata": {},
   "outputs": [],
   "source": [
    "countries = [elem.replace('\\n', ' ').replace('*', '').replace('+', '').strip() for elem in countries]"
   ]
  },
  {
   "cell_type": "code",
   "execution_count": 12,
   "id": "ca23336c-1bd8-4ee8-8c5d-68ea76540375",
   "metadata": {},
   "outputs": [
    {
     "name": "stdout",
     "output_type": "stream",
     "text": [
      "['Afghanistan', 'Albania', 'Algeria', 'Andorra', 'Angola', 'Antigua and Barbuda', 'Argentina', 'Armenia', 'Australia', 'Austria', 'Azerbaijan', 'Bahamas, The', 'Bahrain', 'Bangladesh', 'Barbados', 'Belarus', 'Belgium', 'Belize', 'Benin', 'Bhutan', 'Bolivia', 'Bosnia and Herzegovina', 'Botswana', 'Brazil', 'Brunei', 'Bulgaria', 'Burkina Faso', 'Burma', 'Burundi', 'Cabo Verde', 'Cambodia', 'Cameroon', 'Canada', 'Central African Republic', 'Chad', 'Chile', 'China  (see note 3)', 'Colombia', 'Comoros', 'Congo (Brazzaville)  (see note 4)', 'Congo (Kinshasa)  (see note 4)', 'Cook Islands', 'Costa Rica', 'Côte d’Ivoire', 'Croatia', 'Cuba', 'Cyprus', 'Czechia', 'Denmark', 'Djibouti', 'Dominica', 'Dominican Republic', 'Ecuador', 'Egypt', 'El Salvador', 'Equatorial Guinea', 'Eritrea', 'Estonia', 'Eswatini', 'Ethiopia', 'Fiji', 'Finland', 'France', 'Gabon', 'Gambia, The', 'Georgia', 'Germany', 'Ghana', 'Greece', 'Grenada', 'Guatemala', 'Guinea', 'Guinea-Bissau', 'Guyana', 'Haiti', 'Holy See', 'Honduras', 'Hungary', 'Iceland', 'India', 'Indonesia', 'Iran', 'Iraq', 'Ireland', 'Israel', 'Italy', 'Jamaica', 'Japan', 'Jordan', 'Kazakhstan', 'Kenya', 'Kiribati', 'Korea, North', 'Korea, South', 'Kosovo', 'Kuwait', 'Kyrgyzstan', 'Laos', 'Latvia', 'Lebanon', 'Lesotho', 'Liberia', 'Libya', 'Liechtenstein', 'Lithuania', 'Luxembourg', 'Madagascar', 'Malawi', 'Malaysia', 'Maldives', 'Mali', 'Malta', 'Marshall Islands', 'Mauritania', 'Mauritius', 'Mexico', 'Micronesia, Federated States of', 'Moldova', 'Monaco', 'Mongolia', 'Montenegro', 'Morocco', 'Mozambique', 'Namibia', 'Nauru', 'Nepal', 'Netherlands', 'New Zealand', 'Nicaragua', 'Niger', 'Nigeria', 'Niue', 'North Macedonia', 'Norway', 'Oman', 'Pakistan', 'Palau', 'Panama', 'Papua New Guinea', 'Paraguay', 'Peru', 'Philippines', 'Poland', 'Portugal', 'Qatar', 'Romania', 'Russia', 'Rwanda', 'Saint Kitts and Nevis', 'Saint Lucia', 'Saint Vincent and the Grenadines', 'Samoa', 'San Marino', 'Sao Tome and Principe', 'Saudi Arabia', 'Senegal', 'Serbia', 'Seychelles', 'Sierra Leone', 'Singapore', 'Slovakia', 'Slovenia', 'Solomon Islands', 'Somalia', 'South Africa', 'South Sudan', 'Spain', 'Sri Lanka', 'Sudan', 'Suriname', 'Sweden', 'Switzerland', 'Syria', 'Tajikistan', 'Tanzania', 'Thailand', 'Timor-Leste', 'Togo', 'Tonga', 'Trinidad and Tobago', 'Tunisia', 'Turkey  (see note 5)', 'Turkmenistan', 'Tuvalu', 'Uganda', 'Ukraine', 'United Arab Emirates', 'United Kingdom', 'United States', 'Uruguay', 'Uzbekistan', 'Vanuatu', 'Venezuela', 'Vietnam', 'Yemen', 'Zambia', 'Zimbabwe']\n"
     ]
    }
   ],
   "source": [
    "print(countries)"
   ]
  },
  {
   "cell_type": "code",
   "execution_count": 13,
   "id": "d2ba12a1-340f-469b-8615-374160e0bd71",
   "metadata": {},
   "outputs": [
    {
     "data": {
      "text/plain": [
       "197"
      ]
     },
     "execution_count": 13,
     "metadata": {},
     "output_type": "execute_result"
    }
   ],
   "source": [
    "len(countries)"
   ]
  },
  {
   "cell_type": "code",
   "execution_count": 14,
   "id": "26ee7d02-cf7e-4705-872f-5c241ae438ec",
   "metadata": {},
   "outputs": [],
   "source": [
    "# doing some manual cleaning before creating graph\n",
    "# Step 1 : using common name of Congo(Brazzaville) as Republic of Congo and Congo(Kinshasa) as Democratic republic of congo\n",
    "countries[countries.index('Congo (Brazzaville)  (see note 4)')] = 'Republic of Congo'\n",
    "countries[countries.index('Congo (Kinshasa)  (see note 4)')] = 'Democratic Republic of Congo'\n",
    "countries[countries.index('Korea, North')] = 'North Korea'\n",
    "countries[countries.index('Korea, South')] = 'South Korea'"
   ]
  },
  {
   "cell_type": "code",
   "execution_count": 15,
   "id": "f3449859-4b49-4d11-83fa-ac2bd0c7385b",
   "metadata": {},
   "outputs": [],
   "source": [
    "def remove_comma_and_parentheses(s):\n",
    "    # Remove everything after the comma and text within parentheses\n",
    "    s = re.sub(r',.*', '', s)  # Remove text after comma\n",
    "    s = re.sub(r'\\(.*\\)', '', s)  # Remove text within parentheses\n",
    "    return s.strip()  # Strip any leading or trailing spaces"
   ]
  },
  {
   "cell_type": "code",
   "execution_count": 16,
   "id": "e6636f06-17fe-4066-bcc0-66d112f40bd5",
   "metadata": {},
   "outputs": [],
   "source": [
    "countries = [remove_comma_and_parentheses(s) for s in countries]"
   ]
  },
  {
   "cell_type": "code",
   "execution_count": null,
   "id": "b9912bfe-d382-4f97-823d-cabdc1e522dc",
   "metadata": {},
   "outputs": [],
   "source": [
    "for i in range (0, len(countries)) :\n",
    "    print(countries[i])"
   ]
  },
  {
   "cell_type": "code",
   "execution_count": 18,
   "id": "785bccf1-f057-45f7-adf1-bfe94040cccf",
   "metadata": {},
   "outputs": [],
   "source": [
    "import networkx as nx\n",
    "country_graph=nx.DiGraph()"
   ]
  },
  {
   "cell_type": "code",
   "execution_count": 19,
   "id": "626fa346-c1a4-405c-9ba0-e8c0a4d76d4e",
   "metadata": {},
   "outputs": [],
   "source": [
    "country_graph.add_nodes_from(countries)"
   ]
  },
  {
   "cell_type": "code",
   "execution_count": 20,
   "id": "ef84dbfd-0cb9-40fb-9ea7-56b0392b8e69",
   "metadata": {},
   "outputs": [],
   "source": [
    "for i in range (0 , len(countries)) : \n",
    "    country = countries[i]\n",
    "    last_character = country[-1] # get the last character\n",
    "    for j in range (0 , len(countries)) : \n",
    "         country2 = countries[j]\n",
    "         first_character = country2[0]\n",
    "         if(last_character.lower() == first_character.lower() and i != j) : \n",
    "             # print(\"Adding edge from \" + country  + \" to \" + country2)\n",
    "             country_graph.add_edge(country, country2)"
   ]
  },
  {
   "cell_type": "code",
   "execution_count": 21,
   "id": "18088dfd-9d45-476b-bfae-e4cc7476dd65",
   "metadata": {},
   "outputs": [
    {
     "name": "stdout",
     "output_type": "stream",
     "text": [
      "Number of nodes in the graph  197\n"
     ]
    }
   ],
   "source": [
    "print(\"Number of nodes in the graph \" , len(country_graph.nodes()))"
   ]
  },
  {
   "cell_type": "code",
   "execution_count": 22,
   "id": "157a705d-3f5f-48e3-9133-e9553162cbfc",
   "metadata": {},
   "outputs": [
    {
     "name": "stdout",
     "output_type": "stream",
     "text": [
      "Number of edges in the graph  2088\n"
     ]
    }
   ],
   "source": [
    "print(\"Number of edges in the graph \", len(country_graph.edges()))"
   ]
  },
  {
   "cell_type": "code",
   "execution_count": 23,
   "id": "0c695978-c59b-4ffd-865c-c0a71173afc4",
   "metadata": {},
   "outputs": [],
   "source": [
    "import pickle\n",
    "\n",
    "# Save the graph DG to a file\n",
    "with open(\"country_graph.pkl\", \"wb\") as f:\n",
    "    pickle.dump(country_graph, f)"
   ]
  },
  {
   "cell_type": "code",
   "execution_count": null,
   "id": "95255bb6-f58a-4575-9ae8-1ba9d5007e6b",
   "metadata": {
    "scrolled": true
   },
   "outputs": [],
   "source": [
    "\n",
    "headers = {\n",
    "    'User-Agent': 'Mozilla/5.0 (Windows NT 10.0; Win64; x64) AppleWebKit/537.36 (KHTML, like Gecko) Chrome/114.0.0.0 Safari/537.36'\n",
    "}\n",
    "\n",
    "url = 'https://worldpopulationreview.com/cities'\n",
    "r = requests.get(url, headers=headers)\n",
    "\n",
    "if r.status_code == 200:\n",
    "    soup = BeautifulSoup(r.text, 'html.parser')\n",
    "    print(soup.prettify())\n",
    "else:\n",
    "    print(f\"Request failed with status code {r.status_code}\")"
   ]
  },
  {
   "cell_type": "code",
   "execution_count": 25,
   "id": "51b286bc-fd9c-4d6a-a6a1-daf9aad17bbb",
   "metadata": {},
   "outputs": [],
   "source": [
    "data = soup.find_all('a', class_ = \"text-wpr-link\")"
   ]
  },
  {
   "cell_type": "code",
   "execution_count": 26,
   "id": "ee150cb5-f444-403a-9909-5e6bbd3087e4",
   "metadata": {},
   "outputs": [
    {
     "name": "stdout",
     "output_type": "stream",
     "text": [
      "Tokyo\n"
     ]
    }
   ],
   "source": [
    "print(data[0].text)"
   ]
  },
  {
   "cell_type": "code",
   "execution_count": 27,
   "id": "01bdf867-c355-4ceb-aa65-c3cc340ef29a",
   "metadata": {},
   "outputs": [],
   "source": [
    "cities = []\n",
    "for i in range (0, 500 + 2 ) : # because 2 names are repeated , Hyderabad and Suzhou\n",
    "    cities.append(data[i].text)"
   ]
  },
  {
   "cell_type": "code",
   "execution_count": 28,
   "id": "c1f5f076-df83-400f-883e-dda92d9da512",
   "metadata": {},
   "outputs": [
    {
     "name": "stdout",
     "output_type": "stream",
     "text": [
      "502\n"
     ]
    }
   ],
   "source": [
    "print(len(cities))"
   ]
  },
  {
   "cell_type": "code",
   "execution_count": 29,
   "id": "db5391a7-9dfe-4a2c-bc0f-feef01ff5c97",
   "metadata": {},
   "outputs": [
    {
     "name": "stdout",
     "output_type": "stream",
     "text": [
      "Hyderabad\n",
      "Suzhou\n",
      "Hyderabad\n",
      "Suzhou\n"
     ]
    }
   ],
   "source": [
    "for i in range (0, 500 ) : \n",
    "    for j in range (0, 500 ) : \n",
    "        if cities[i] == cities[j] and  i != j : \n",
    "            print(cities[i])"
   ]
  },
  {
   "cell_type": "code",
   "execution_count": 30,
   "id": "ec5f369e-39a0-4122-ba2f-fa4862315b99",
   "metadata": {},
   "outputs": [],
   "source": [
    "cities_graph=nx.DiGraph()"
   ]
  },
  {
   "cell_type": "code",
   "execution_count": 31,
   "id": "0f4da48a-479c-4786-a22a-636bd45f3ff2",
   "metadata": {},
   "outputs": [],
   "source": [
    "cities_graph.add_nodes_from(cities)"
   ]
  },
  {
   "cell_type": "code",
   "execution_count": 32,
   "id": "4252bf0a-f77a-4d7f-8a8a-1b934e4371b4",
   "metadata": {
    "scrolled": true
   },
   "outputs": [],
   "source": [
    "for i in range (0 , len(cities)) : \n",
    "    city = cities[i]\n",
    "    last_character = city[-1] # get the last character\n",
    "    for j in range (0 , len(cities)) : \n",
    "         city2 = cities[j]\n",
    "         first_character = city2[0]\n",
    "         if(last_character.lower() == first_character.lower() and i != j) : \n",
    "             # print(\"Adding edge from \" + city  + \" to \" + city2)\n",
    "             cities_graph.add_edge(city, city2)"
   ]
  },
  {
   "cell_type": "code",
   "execution_count": 33,
   "id": "0f733bca-bccb-4a71-bfd3-e80fe2312591",
   "metadata": {},
   "outputs": [
    {
     "name": "stdout",
     "output_type": "stream",
     "text": [
      "Number of nodes in the graph  500\n"
     ]
    }
   ],
   "source": [
    "print(\"Number of nodes in the graph \" , len(cities_graph.nodes()))"
   ]
  },
  {
   "cell_type": "code",
   "execution_count": 34,
   "id": "21ffd53d-3221-4ee0-84c8-87103940bdf1",
   "metadata": {},
   "outputs": [
    {
     "name": "stdout",
     "output_type": "stream",
     "text": [
      "Number of edges in the graph  9276\n"
     ]
    }
   ],
   "source": [
    "print(\"Number of edges in the graph \", len(cities_graph.edges()))"
   ]
  },
  {
   "cell_type": "code",
   "execution_count": 35,
   "id": "c8c7c920-ada6-4b26-bb07-8187aafc8fba",
   "metadata": {},
   "outputs": [],
   "source": [
    "import pickle\n",
    "\n",
    "with open(\"cities_graph.pkl\", \"wb\") as f:\n",
    "    pickle.dump(cities_graph, f)"
   ]
  },
  {
   "cell_type": "code",
   "execution_count": 36,
   "id": "0de5c7af-20de-4f4a-9495-338824eaa396",
   "metadata": {},
   "outputs": [],
   "source": [
    "mixed_graph = nx.DiGraph()"
   ]
  },
  {
   "cell_type": "code",
   "execution_count": 37,
   "id": "8cbeb912-cf9b-4bb5-baf2-17d6fb31dc24",
   "metadata": {},
   "outputs": [],
   "source": [
    "mixed_graph.add_nodes_from(cities)"
   ]
  },
  {
   "cell_type": "code",
   "execution_count": 38,
   "id": "efbda445-b423-499b-bd7d-9591344e45fb",
   "metadata": {},
   "outputs": [],
   "source": [
    "mixed_graph.add_nodes_from(countries)"
   ]
  },
  {
   "cell_type": "code",
   "execution_count": 39,
   "id": "73798651-69ca-4455-b1b7-9ededa742e2d",
   "metadata": {
    "scrolled": true
   },
   "outputs": [],
   "source": [
    "for node1 in mixed_graph.nodes():\n",
    "    last_character = node1[-1].lower()  # Get last character of node1 (convert to lowercase)\n",
    "\n",
    "    for node2 in mixed_graph.nodes():\n",
    "        first_character = node2[0].lower()  # Get first character of node2 (convert to lowercase)\n",
    "\n",
    "        if last_character == first_character and node1 != node2:\n",
    "            # print(f\"Adding edge from {node1} to {node2}\")\n",
    "            mixed_graph.add_edge(node1, node2)"
   ]
  },
  {
   "cell_type": "code",
   "execution_count": 40,
   "id": "bdeddd04-e1b5-4a29-8c53-e62b63d8225c",
   "metadata": {},
   "outputs": [
    {
     "data": {
      "text/plain": [
       "696"
      ]
     },
     "execution_count": 40,
     "metadata": {},
     "output_type": "execute_result"
    }
   ],
   "source": [
    "len(mixed_graph.nodes())"
   ]
  },
  {
   "cell_type": "code",
   "execution_count": 41,
   "id": "b15a0554-ebe4-4f9d-9b38-652b7fe0087e",
   "metadata": {},
   "outputs": [
    {
     "data": {
      "text/plain": [
       "20628"
      ]
     },
     "execution_count": 41,
     "metadata": {},
     "output_type": "execute_result"
    }
   ],
   "source": [
    "len(mixed_graph.edges())"
   ]
  },
  {
   "cell_type": "code",
   "execution_count": 42,
   "id": "d1a4103e-b44d-453d-8c00-c5a93e217c93",
   "metadata": {},
   "outputs": [],
   "source": [
    "import pickle\n",
    "\n",
    "with open(\"mixed_graph.pkl\", \"wb\") as f:\n",
    "    pickle.dump(mixed_graph, f)"
   ]
  },
  {
   "cell_type": "code",
   "execution_count": null,
   "id": "571207e9-cc0c-456c-bc6d-fff93dd9bac5",
   "metadata": {},
   "outputs": [],
   "source": []
  }
 ],
 "metadata": {
  "kernelspec": {
   "display_name": "Python 3 (ipykernel)",
   "language": "python",
   "name": "python3"
  },
  "language_info": {
   "codemirror_mode": {
    "name": "ipython",
    "version": 3
   },
   "file_extension": ".py",
   "mimetype": "text/x-python",
   "name": "python",
   "nbconvert_exporter": "python",
   "pygments_lexer": "ipython3",
   "version": "3.11.8"
  }
 },
 "nbformat": 4,
 "nbformat_minor": 5
}
